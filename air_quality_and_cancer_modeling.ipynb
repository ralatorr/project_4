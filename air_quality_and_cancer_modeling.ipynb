{
 "cells": [
  {
   "cell_type": "code",
   "execution_count": 1,
   "metadata": {},
   "outputs": [],
   "source": [
    "import pandas as pd\n",
    "import numpy as np\n",
    "import os\n",
    "import regex as re\n",
    "\n",
    "import matplotlib.pyplot as plt\n",
    "import seaborn as sns\n",
    "\n",
    "from statsmodels.tsa.seasonal import seasonal_decompose\n",
    "from statsmodels.graphics.tsaplots import plot_acf, plot_pacf\n",
    "from statsmodels.tsa.arima_model import ARIMA\n",
    "from statsmodels.tsa.stattools import adfuller # ADFuller Hypothesis test\n",
    "from statsmodels.tsa.statespace.sarimax import SARIMAX\n",
    "\n",
    "from pmdarima import auto_arima\n",
    "\n",
    "from sklearn.model_selection import train_test_split\n",
    "from sklearn.metrics import r2_score, mean_squared_error\n",
    "\n",
    "from pmdarima import auto_arima"
   ]
  },
  {
   "cell_type": "code",
   "execution_count": 8,
   "metadata": {},
   "outputs": [],
   "source": [
    "ts_data_grouped = pd.read_csv('arimax_modeling_data.csv').set_index('Year')"
   ]
  },
  {
   "cell_type": "code",
   "execution_count": 9,
   "metadata": {},
   "outputs": [
    {
     "data": {
      "text/html": [
       "<div>\n",
       "<style scoped>\n",
       "    .dataframe tbody tr th:only-of-type {\n",
       "        vertical-align: middle;\n",
       "    }\n",
       "\n",
       "    .dataframe tbody tr th {\n",
       "        vertical-align: top;\n",
       "    }\n",
       "\n",
       "    .dataframe thead th {\n",
       "        text-align: right;\n",
       "    }\n",
       "</style>\n",
       "<table border=\"1\" class=\"dataframe\">\n",
       "  <thead>\n",
       "    <tr style=\"text-align: right;\">\n",
       "      <th></th>\n",
       "      <th>state</th>\n",
       "      <th>days_with_aqi</th>\n",
       "      <th>good_days</th>\n",
       "      <th>moderate_days</th>\n",
       "      <th>unhealthy_for_sensitive_groups_days</th>\n",
       "      <th>unhealthy_days</th>\n",
       "      <th>very_unhealthy_days</th>\n",
       "      <th>hazardous_days</th>\n",
       "      <th>max_aqi</th>\n",
       "      <th>90th_percentile_aqi</th>\n",
       "      <th>...</th>\n",
       "      <th>cervix</th>\n",
       "      <th>lung_and_bronchus</th>\n",
       "      <th>stomach</th>\n",
       "      <th>female_breast</th>\n",
       "      <th>prostate</th>\n",
       "      <th>melanomas_of_the_skin</th>\n",
       "      <th>thyroid</th>\n",
       "      <th>ovary</th>\n",
       "      <th>mesothelioma</th>\n",
       "      <th>brain_and_other_nervous_system</th>\n",
       "    </tr>\n",
       "    <tr>\n",
       "      <th>Year</th>\n",
       "      <th></th>\n",
       "      <th></th>\n",
       "      <th></th>\n",
       "      <th></th>\n",
       "      <th></th>\n",
       "      <th></th>\n",
       "      <th></th>\n",
       "      <th></th>\n",
       "      <th></th>\n",
       "      <th></th>\n",
       "      <th></th>\n",
       "      <th></th>\n",
       "      <th></th>\n",
       "      <th></th>\n",
       "      <th></th>\n",
       "      <th></th>\n",
       "      <th></th>\n",
       "      <th></th>\n",
       "      <th></th>\n",
       "      <th></th>\n",
       "      <th></th>\n",
       "    </tr>\n",
       "  </thead>\n",
       "  <tbody>\n",
       "    <tr>\n",
       "      <th>2000</th>\n",
       "      <td>California</td>\n",
       "      <td>363.279000</td>\n",
       "      <td>129.055405</td>\n",
       "      <td>131.614307</td>\n",
       "      <td>64.641692</td>\n",
       "      <td>32.701192</td>\n",
       "      <td>5.252650</td>\n",
       "      <td>0.013755</td>\n",
       "      <td>213.935666</td>\n",
       "      <td>129.726187</td>\n",
       "      <td>...</td>\n",
       "      <td>10.0</td>\n",
       "      <td>60.0</td>\n",
       "      <td>9.0</td>\n",
       "      <td>134.6</td>\n",
       "      <td>162.7</td>\n",
       "      <td>18.1</td>\n",
       "      <td>6.9</td>\n",
       "      <td>13.8</td>\n",
       "      <td>1.1</td>\n",
       "      <td>6.2</td>\n",
       "    </tr>\n",
       "    <tr>\n",
       "      <th>2001</th>\n",
       "      <td>California</td>\n",
       "      <td>363.108767</td>\n",
       "      <td>122.007743</td>\n",
       "      <td>133.737795</td>\n",
       "      <td>70.297569</td>\n",
       "      <td>30.293275</td>\n",
       "      <td>6.704133</td>\n",
       "      <td>0.068252</td>\n",
       "      <td>227.469711</td>\n",
       "      <td>129.558179</td>\n",
       "      <td>...</td>\n",
       "      <td>9.1</td>\n",
       "      <td>59.1</td>\n",
       "      <td>8.4</td>\n",
       "      <td>133.4</td>\n",
       "      <td>163.8</td>\n",
       "      <td>19.3</td>\n",
       "      <td>7.2</td>\n",
       "      <td>13.6</td>\n",
       "      <td>1.0</td>\n",
       "      <td>6.2</td>\n",
       "    </tr>\n",
       "    <tr>\n",
       "      <th>2002</th>\n",
       "      <td>California</td>\n",
       "      <td>362.754063</td>\n",
       "      <td>117.551178</td>\n",
       "      <td>139.338293</td>\n",
       "      <td>62.877890</td>\n",
       "      <td>32.526242</td>\n",
       "      <td>10.341602</td>\n",
       "      <td>0.118859</td>\n",
       "      <td>217.847770</td>\n",
       "      <td>136.188933</td>\n",
       "      <td>...</td>\n",
       "      <td>9.1</td>\n",
       "      <td>57.6</td>\n",
       "      <td>8.5</td>\n",
       "      <td>132.0</td>\n",
       "      <td>166.2</td>\n",
       "      <td>18.9</td>\n",
       "      <td>7.7</td>\n",
       "      <td>13.8</td>\n",
       "      <td>1.0</td>\n",
       "      <td>6.4</td>\n",
       "    </tr>\n",
       "    <tr>\n",
       "      <th>2003</th>\n",
       "      <td>California</td>\n",
       "      <td>362.199118</td>\n",
       "      <td>126.832960</td>\n",
       "      <td>134.928487</td>\n",
       "      <td>55.057050</td>\n",
       "      <td>31.569969</td>\n",
       "      <td>13.794660</td>\n",
       "      <td>0.015992</td>\n",
       "      <td>225.947488</td>\n",
       "      <td>141.438401</td>\n",
       "      <td>...</td>\n",
       "      <td>8.3</td>\n",
       "      <td>56.2</td>\n",
       "      <td>8.3</td>\n",
       "      <td>122.0</td>\n",
       "      <td>151.9</td>\n",
       "      <td>18.3</td>\n",
       "      <td>7.9</td>\n",
       "      <td>13.4</td>\n",
       "      <td>1.0</td>\n",
       "      <td>6.5</td>\n",
       "    </tr>\n",
       "    <tr>\n",
       "      <th>2004</th>\n",
       "      <td>California</td>\n",
       "      <td>363.168394</td>\n",
       "      <td>118.875883</td>\n",
       "      <td>151.102750</td>\n",
       "      <td>58.618596</td>\n",
       "      <td>31.092621</td>\n",
       "      <td>3.464969</td>\n",
       "      <td>0.013575</td>\n",
       "      <td>190.541881</td>\n",
       "      <td>128.566860</td>\n",
       "      <td>...</td>\n",
       "      <td>8.2</td>\n",
       "      <td>55.5</td>\n",
       "      <td>8.4</td>\n",
       "      <td>120.3</td>\n",
       "      <td>157.8</td>\n",
       "      <td>19.8</td>\n",
       "      <td>8.4</td>\n",
       "      <td>13.1</td>\n",
       "      <td>1.0</td>\n",
       "      <td>6.4</td>\n",
       "    </tr>\n",
       "  </tbody>\n",
       "</table>\n",
       "<p>5 rows × 42 columns</p>\n",
       "</div>"
      ],
      "text/plain": [
       "           state  days_with_aqi   good_days  moderate_days  \\\n",
       "Year                                                         \n",
       "2000  California     363.279000  129.055405     131.614307   \n",
       "2001  California     363.108767  122.007743     133.737795   \n",
       "2002  California     362.754063  117.551178     139.338293   \n",
       "2003  California     362.199118  126.832960     134.928487   \n",
       "2004  California     363.168394  118.875883     151.102750   \n",
       "\n",
       "      unhealthy_for_sensitive_groups_days  unhealthy_days  \\\n",
       "Year                                                        \n",
       "2000                            64.641692       32.701192   \n",
       "2001                            70.297569       30.293275   \n",
       "2002                            62.877890       32.526242   \n",
       "2003                            55.057050       31.569969   \n",
       "2004                            58.618596       31.092621   \n",
       "\n",
       "      very_unhealthy_days  hazardous_days     max_aqi  90th_percentile_aqi  \\\n",
       "Year                                                                         \n",
       "2000             5.252650        0.013755  213.935666           129.726187   \n",
       "2001             6.704133        0.068252  227.469711           129.558179   \n",
       "2002            10.341602        0.118859  217.847770           136.188933   \n",
       "2003            13.794660        0.015992  225.947488           141.438401   \n",
       "2004             3.464969        0.013575  190.541881           128.566860   \n",
       "\n",
       "      ...  cervix  lung_and_bronchus  stomach  female_breast  prostate  \\\n",
       "Year  ...                                                                \n",
       "2000  ...    10.0               60.0      9.0          134.6     162.7   \n",
       "2001  ...     9.1               59.1      8.4          133.4     163.8   \n",
       "2002  ...     9.1               57.6      8.5          132.0     166.2   \n",
       "2003  ...     8.3               56.2      8.3          122.0     151.9   \n",
       "2004  ...     8.2               55.5      8.4          120.3     157.8   \n",
       "\n",
       "      melanomas_of_the_skin  thyroid  ovary  mesothelioma  \\\n",
       "Year                                                        \n",
       "2000                   18.1      6.9   13.8           1.1   \n",
       "2001                   19.3      7.2   13.6           1.0   \n",
       "2002                   18.9      7.7   13.8           1.0   \n",
       "2003                   18.3      7.9   13.4           1.0   \n",
       "2004                   19.8      8.4   13.1           1.0   \n",
       "\n",
       "      brain_and_other_nervous_system  \n",
       "Year                                  \n",
       "2000                             6.2  \n",
       "2001                             6.2  \n",
       "2002                             6.4  \n",
       "2003                             6.5  \n",
       "2004                             6.4  \n",
       "\n",
       "[5 rows x 42 columns]"
      ]
     },
     "execution_count": 9,
     "metadata": {},
     "output_type": "execute_result"
    }
   ],
   "source": [
    "ts_data_grouped.head()"
   ]
  },
  {
   "cell_type": "markdown",
   "metadata": {},
   "source": [
    "# ARIMAX Modeling Cancer Incidencer Rates vs Air Quality Data\n",
    "\n",
    "Here we will try an ARIMAX model, a type of regression model that regresses a given time series on its lagged values, as well as on exogenous variables. \n",
    "\n",
    "Our intuition here is that human beings generally don't develop cancer immediately after coming into contact with a carcinogen. In our case, we're intuiting that air quality measures might have a lagged effect on cancer incidence, and that these measures themselves may be autocorrelated. "
   ]
  },
  {
   "cell_type": "markdown",
   "metadata": {},
   "source": [
    "However, we have a lot of air quality measures and cancer incidence rates to look at.\n",
    "\n",
    "Let's test an ARIMAX model on those air quality measures that capture days with a high concentration of a given kind of particulate and see if they affect the incidence rate of liver & intrahepatic bile duct cancer. We'll walk through the modeling steps and see what we find. We will then go through a handful of more examples more concisely."
   ]
  },
  {
   "cell_type": "code",
   "execution_count": 10,
   "metadata": {},
   "outputs": [
    {
     "data": {
      "text/plain": [
       "DatetimeIndex(['2000-01-01', '2001-01-01', '2002-01-01', '2003-01-01',\n",
       "               '2004-01-01', '2005-01-01', '2006-01-01', '2007-01-01',\n",
       "               '2008-01-01', '2009-01-01', '2010-01-01', '2011-01-01',\n",
       "               '2012-01-01', '2013-01-01', '2014-01-01', '2015-01-01',\n",
       "               '2016-01-01', '2017-01-01', '2018-01-01', '2019-01-01'],\n",
       "              dtype='datetime64[ns]', name='Year', freq=None)"
      ]
     },
     "execution_count": 10,
     "metadata": {},
     "output_type": "execute_result"
    }
   ],
   "source": [
    "arimax_liver = ts_data_grouped[['days_co', 'days_no2','days_ozone', 'days_pm2.5', 'days_pm10', \n",
    "                                'liver_and_intrahepatic_bile_duct']]\n",
    "arimax_liver.shape\n",
    "arimax_liver.index = pd.to_datetime(arimax_liver.index, format='%Y')\n",
    "arimax_liver.index"
   ]
  },
  {
   "cell_type": "code",
   "execution_count": 11,
   "metadata": {},
   "outputs": [
    {
     "data": {
      "text/html": [
       "<div>\n",
       "<style scoped>\n",
       "    .dataframe tbody tr th:only-of-type {\n",
       "        vertical-align: middle;\n",
       "    }\n",
       "\n",
       "    .dataframe tbody tr th {\n",
       "        vertical-align: top;\n",
       "    }\n",
       "\n",
       "    .dataframe thead th {\n",
       "        text-align: right;\n",
       "    }\n",
       "</style>\n",
       "<table border=\"1\" class=\"dataframe\">\n",
       "  <thead>\n",
       "    <tr style=\"text-align: right;\">\n",
       "      <th></th>\n",
       "      <th>days_co</th>\n",
       "      <th>days_no2</th>\n",
       "      <th>days_ozone</th>\n",
       "      <th>days_pm2.5</th>\n",
       "      <th>days_pm10</th>\n",
       "      <th>liver_and_intrahepatic_bile_duct</th>\n",
       "    </tr>\n",
       "    <tr>\n",
       "      <th>Year</th>\n",
       "      <th></th>\n",
       "      <th></th>\n",
       "      <th></th>\n",
       "      <th></th>\n",
       "      <th></th>\n",
       "      <th></th>\n",
       "    </tr>\n",
       "  </thead>\n",
       "  <tbody>\n",
       "    <tr>\n",
       "      <th>2000-01-01</th>\n",
       "      <td>3.729155</td>\n",
       "      <td>74.436846</td>\n",
       "      <td>176.911835</td>\n",
       "      <td>104.686231</td>\n",
       "      <td>3.514932</td>\n",
       "      <td>6.7</td>\n",
       "    </tr>\n",
       "    <tr>\n",
       "      <th>2001-01-01</th>\n",
       "      <td>1.522703</td>\n",
       "      <td>61.481326</td>\n",
       "      <td>183.976552</td>\n",
       "      <td>112.115517</td>\n",
       "      <td>4.012669</td>\n",
       "      <td>7.3</td>\n",
       "    </tr>\n",
       "    <tr>\n",
       "      <th>2002-01-01</th>\n",
       "      <td>1.829375</td>\n",
       "      <td>53.054626</td>\n",
       "      <td>191.024213</td>\n",
       "      <td>112.908444</td>\n",
       "      <td>3.937405</td>\n",
       "      <td>7.3</td>\n",
       "    </tr>\n",
       "    <tr>\n",
       "      <th>2003-01-01</th>\n",
       "      <td>1.218672</td>\n",
       "      <td>49.909312</td>\n",
       "      <td>208.105724</td>\n",
       "      <td>100.438645</td>\n",
       "      <td>2.526765</td>\n",
       "      <td>7.4</td>\n",
       "    </tr>\n",
       "    <tr>\n",
       "      <th>2004-01-01</th>\n",
       "      <td>0.222068</td>\n",
       "      <td>37.277011</td>\n",
       "      <td>202.737644</td>\n",
       "      <td>120.853557</td>\n",
       "      <td>2.078114</td>\n",
       "      <td>7.8</td>\n",
       "    </tr>\n",
       "    <tr>\n",
       "      <th>2005-01-01</th>\n",
       "      <td>0.755770</td>\n",
       "      <td>43.117100</td>\n",
       "      <td>201.729518</td>\n",
       "      <td>114.748454</td>\n",
       "      <td>1.790673</td>\n",
       "      <td>8.6</td>\n",
       "    </tr>\n",
       "    <tr>\n",
       "      <th>2006-01-01</th>\n",
       "      <td>0.483553</td>\n",
       "      <td>42.829247</td>\n",
       "      <td>204.813283</td>\n",
       "      <td>109.723257</td>\n",
       "      <td>4.567121</td>\n",
       "      <td>8.6</td>\n",
       "    </tr>\n",
       "    <tr>\n",
       "      <th>2007-01-01</th>\n",
       "      <td>0.258408</td>\n",
       "      <td>42.816456</td>\n",
       "      <td>199.041421</td>\n",
       "      <td>115.114365</td>\n",
       "      <td>5.920084</td>\n",
       "      <td>9.0</td>\n",
       "    </tr>\n",
       "    <tr>\n",
       "      <th>2008-01-01</th>\n",
       "      <td>0.114490</td>\n",
       "      <td>40.145839</td>\n",
       "      <td>190.682920</td>\n",
       "      <td>127.375387</td>\n",
       "      <td>5.801039</td>\n",
       "      <td>9.0</td>\n",
       "    </tr>\n",
       "    <tr>\n",
       "      <th>2009-01-01</th>\n",
       "      <td>0.077228</td>\n",
       "      <td>23.556331</td>\n",
       "      <td>195.402311</td>\n",
       "      <td>137.470173</td>\n",
       "      <td>6.595085</td>\n",
       "      <td>9.6</td>\n",
       "    </tr>\n",
       "    <tr>\n",
       "      <th>2010-01-01</th>\n",
       "      <td>0.061353</td>\n",
       "      <td>22.761824</td>\n",
       "      <td>189.075554</td>\n",
       "      <td>148.048505</td>\n",
       "      <td>3.343300</td>\n",
       "      <td>9.6</td>\n",
       "    </tr>\n",
       "    <tr>\n",
       "      <th>2011-01-01</th>\n",
       "      <td>0.158175</td>\n",
       "      <td>15.059447</td>\n",
       "      <td>171.886410</td>\n",
       "      <td>170.982498</td>\n",
       "      <td>5.270500</td>\n",
       "      <td>9.6</td>\n",
       "    </tr>\n",
       "    <tr>\n",
       "      <th>2012-01-01</th>\n",
       "      <td>0.093323</td>\n",
       "      <td>14.993506</td>\n",
       "      <td>191.713265</td>\n",
       "      <td>150.169648</td>\n",
       "      <td>7.470252</td>\n",
       "      <td>9.7</td>\n",
       "    </tr>\n",
       "    <tr>\n",
       "      <th>2013-01-01</th>\n",
       "      <td>0.784111</td>\n",
       "      <td>14.398572</td>\n",
       "      <td>171.457511</td>\n",
       "      <td>166.981558</td>\n",
       "      <td>9.797132</td>\n",
       "      <td>10.0</td>\n",
       "    </tr>\n",
       "    <tr>\n",
       "      <th>2014-01-01</th>\n",
       "      <td>0.019635</td>\n",
       "      <td>14.146707</td>\n",
       "      <td>187.579354</td>\n",
       "      <td>152.377603</td>\n",
       "      <td>9.304134</td>\n",
       "      <td>10.5</td>\n",
       "    </tr>\n",
       "    <tr>\n",
       "      <th>2015-01-01</th>\n",
       "      <td>0.032450</td>\n",
       "      <td>16.269338</td>\n",
       "      <td>196.229928</td>\n",
       "      <td>143.924817</td>\n",
       "      <td>7.035874</td>\n",
       "      <td>10.2</td>\n",
       "    </tr>\n",
       "    <tr>\n",
       "      <th>2016-01-01</th>\n",
       "      <td>0.041872</td>\n",
       "      <td>16.666374</td>\n",
       "      <td>200.686666</td>\n",
       "      <td>139.505364</td>\n",
       "      <td>7.758944</td>\n",
       "      <td>9.7</td>\n",
       "    </tr>\n",
       "    <tr>\n",
       "      <th>2017-01-01</th>\n",
       "      <td>0.007030</td>\n",
       "      <td>13.756264</td>\n",
       "      <td>198.957300</td>\n",
       "      <td>143.677368</td>\n",
       "      <td>7.177102</td>\n",
       "      <td>9.8</td>\n",
       "    </tr>\n",
       "    <tr>\n",
       "      <th>2018-01-01</th>\n",
       "      <td>0.025821</td>\n",
       "      <td>14.041840</td>\n",
       "      <td>187.835109</td>\n",
       "      <td>154.664220</td>\n",
       "      <td>7.101771</td>\n",
       "      <td>9.6</td>\n",
       "    </tr>\n",
       "    <tr>\n",
       "      <th>2019-01-01</th>\n",
       "      <td>0.035849</td>\n",
       "      <td>14.452211</td>\n",
       "      <td>225.277550</td>\n",
       "      <td>113.139396</td>\n",
       "      <td>10.753414</td>\n",
       "      <td>9.6</td>\n",
       "    </tr>\n",
       "  </tbody>\n",
       "</table>\n",
       "</div>"
      ],
      "text/plain": [
       "             days_co   days_no2  days_ozone  days_pm2.5  days_pm10  \\\n",
       "Year                                                                 \n",
       "2000-01-01  3.729155  74.436846  176.911835  104.686231   3.514932   \n",
       "2001-01-01  1.522703  61.481326  183.976552  112.115517   4.012669   \n",
       "2002-01-01  1.829375  53.054626  191.024213  112.908444   3.937405   \n",
       "2003-01-01  1.218672  49.909312  208.105724  100.438645   2.526765   \n",
       "2004-01-01  0.222068  37.277011  202.737644  120.853557   2.078114   \n",
       "2005-01-01  0.755770  43.117100  201.729518  114.748454   1.790673   \n",
       "2006-01-01  0.483553  42.829247  204.813283  109.723257   4.567121   \n",
       "2007-01-01  0.258408  42.816456  199.041421  115.114365   5.920084   \n",
       "2008-01-01  0.114490  40.145839  190.682920  127.375387   5.801039   \n",
       "2009-01-01  0.077228  23.556331  195.402311  137.470173   6.595085   \n",
       "2010-01-01  0.061353  22.761824  189.075554  148.048505   3.343300   \n",
       "2011-01-01  0.158175  15.059447  171.886410  170.982498   5.270500   \n",
       "2012-01-01  0.093323  14.993506  191.713265  150.169648   7.470252   \n",
       "2013-01-01  0.784111  14.398572  171.457511  166.981558   9.797132   \n",
       "2014-01-01  0.019635  14.146707  187.579354  152.377603   9.304134   \n",
       "2015-01-01  0.032450  16.269338  196.229928  143.924817   7.035874   \n",
       "2016-01-01  0.041872  16.666374  200.686666  139.505364   7.758944   \n",
       "2017-01-01  0.007030  13.756264  198.957300  143.677368   7.177102   \n",
       "2018-01-01  0.025821  14.041840  187.835109  154.664220   7.101771   \n",
       "2019-01-01  0.035849  14.452211  225.277550  113.139396  10.753414   \n",
       "\n",
       "            liver_and_intrahepatic_bile_duct  \n",
       "Year                                          \n",
       "2000-01-01                               6.7  \n",
       "2001-01-01                               7.3  \n",
       "2002-01-01                               7.3  \n",
       "2003-01-01                               7.4  \n",
       "2004-01-01                               7.8  \n",
       "2005-01-01                               8.6  \n",
       "2006-01-01                               8.6  \n",
       "2007-01-01                               9.0  \n",
       "2008-01-01                               9.0  \n",
       "2009-01-01                               9.6  \n",
       "2010-01-01                               9.6  \n",
       "2011-01-01                               9.6  \n",
       "2012-01-01                               9.7  \n",
       "2013-01-01                              10.0  \n",
       "2014-01-01                              10.5  \n",
       "2015-01-01                              10.2  \n",
       "2016-01-01                               9.7  \n",
       "2017-01-01                               9.8  \n",
       "2018-01-01                               9.6  \n",
       "2019-01-01                               9.6  "
      ]
     },
     "execution_count": 11,
     "metadata": {},
     "output_type": "execute_result"
    }
   ],
   "source": [
    "arimax_liver"
   ]
  },
  {
   "cell_type": "markdown",
   "metadata": {},
   "source": [
    "We only have 20 years and thus only 20 rows in our dataset. This might yield a weak model, but let's soldier on anyway!"
   ]
  },
  {
   "cell_type": "markdown",
   "metadata": {},
   "source": [
    "## Determining S"
   ]
  },
  {
   "cell_type": "code",
   "execution_count": 12,
   "metadata": {},
   "outputs": [
    {
     "data": {
      "image/png": "[encoded data removed]",
      "text/plain": [
       "<Figure size 432x288 with 1 Axes>"
      ]
     },
     "metadata": {
      "needs_background": "light"
     },
     "output_type": "display_data"
    }
   ],
   "source": [
    "# quick plot of target vs time\n",
    "arimax_liver['liver_and_intrahepatic_bile_duct'].plot()\n",
    "plt.ylabel(\"New Cancers per 100k People\")\n",
    "plt.title(\"Incidence Rate, Liver Cancer\");"
   ]
  },
  {
   "cell_type": "markdown",
   "metadata": {},
   "source": [
    "## Determine d and D"
   ]
  },
  {
   "cell_type": "code",
   "execution_count": 13,
   "metadata": {},
   "outputs": [],
   "source": [
    "def interpret_dftest(target_column):\n",
    "    '''Returns the Test Statistic and p-value for Augmented Dickey-Fuller test on given target column'''\n",
    "    dftest = adfuller(target_column)\n",
    "    dfoutput = pd.Series(dftest[0:2], index=['Test Statistic','p-value'])\n",
    "    return dfoutput"
   ]
  },
  {
   "cell_type": "code",
   "execution_count": 14,
   "metadata": {},
   "outputs": [
    {
     "data": {
      "text/plain": [
       "Test Statistic    2.297616\n",
       "p-value           0.998954\n",
       "dtype: float64"
      ]
     },
     "execution_count": 14,
     "metadata": {},
     "output_type": "execute_result"
    }
   ],
   "source": [
    "# original data (d = 0)\n",
    "interpret_dftest(arimax_liver['liver_and_intrahepatic_bile_duct'])"
   ]
  },
  {
   "cell_type": "code",
   "execution_count": 15,
   "metadata": {},
   "outputs": [
    {
     "data": {
      "text/plain": [
       "Test Statistic    0.995046\n",
       "p-value           0.994213\n",
       "dtype: float64"
      ]
     },
     "execution_count": 15,
     "metadata": {},
     "output_type": "execute_result"
    }
   ],
   "source": [
    "# once differenced data (d = 1)\n",
    "interpret_dftest(arimax_liver['liver_and_intrahepatic_bile_duct'].diff().dropna())"
   ]
  },
  {
   "cell_type": "code",
   "execution_count": 16,
   "metadata": {},
   "outputs": [
    {
     "data": {
      "text/plain": [
       "Test Statistic   -4.828668\n",
       "p-value           0.000048\n",
       "dtype: float64"
      ]
     },
     "execution_count": 16,
     "metadata": {},
     "output_type": "execute_result"
    }
   ],
   "source": [
    "# twice differenced data (d = 2)\n",
    "interpret_dftest(arimax_liver['liver_and_intrahepatic_bile_duct'].diff().diff().dropna())"
   ]
  },
  {
   "cell_type": "markdown",
   "metadata": {},
   "source": [
    "Let's set d=2 and D=2 for now"
   ]
  },
  {
   "cell_type": "markdown",
   "metadata": {},
   "source": [
    "## Model Preparation"
   ]
  },
  {
   "cell_type": "code",
   "execution_count": 17,
   "metadata": {},
   "outputs": [],
   "source": [
    "X = arimax_liver.drop(columns=['liver_and_intrahepatic_bile_duct'])\n",
    "y = arimax_liver['liver_and_intrahepatic_bile_duct']"
   ]
  },
  {
   "cell_type": "code",
   "execution_count": 18,
   "metadata": {},
   "outputs": [
    {
     "data": {
      "text/html": [
       "<div>\n",
       "<style scoped>\n",
       "    .dataframe tbody tr th:only-of-type {\n",
       "        vertical-align: middle;\n",
       "    }\n",
       "\n",
       "    .dataframe tbody tr th {\n",
       "        vertical-align: top;\n",
       "    }\n",
       "\n",
       "    .dataframe thead th {\n",
       "        text-align: right;\n",
       "    }\n",
       "</style>\n",
       "<table border=\"1\" class=\"dataframe\">\n",
       "  <thead>\n",
       "    <tr style=\"text-align: right;\">\n",
       "      <th></th>\n",
       "      <th>days_co</th>\n",
       "      <th>days_no2</th>\n",
       "      <th>days_ozone</th>\n",
       "      <th>days_pm2.5</th>\n",
       "      <th>days_pm10</th>\n",
       "    </tr>\n",
       "    <tr>\n",
       "      <th>Year</th>\n",
       "      <th></th>\n",
       "      <th></th>\n",
       "      <th></th>\n",
       "      <th></th>\n",
       "      <th></th>\n",
       "    </tr>\n",
       "  </thead>\n",
       "  <tbody>\n",
       "    <tr>\n",
       "      <th>2000-01-01</th>\n",
       "      <td>3.729155</td>\n",
       "      <td>74.436846</td>\n",
       "      <td>176.911835</td>\n",
       "      <td>104.686231</td>\n",
       "      <td>3.514932</td>\n",
       "    </tr>\n",
       "    <tr>\n",
       "      <th>2001-01-01</th>\n",
       "      <td>1.522703</td>\n",
       "      <td>61.481326</td>\n",
       "      <td>183.976552</td>\n",
       "      <td>112.115517</td>\n",
       "      <td>4.012669</td>\n",
       "    </tr>\n",
       "  </tbody>\n",
       "</table>\n",
       "</div>"
      ],
      "text/plain": [
       "             days_co   days_no2  days_ozone  days_pm2.5  days_pm10\n",
       "Year                                                              \n",
       "2000-01-01  3.729155  74.436846  176.911835  104.686231   3.514932\n",
       "2001-01-01  1.522703  61.481326  183.976552  112.115517   4.012669"
      ]
     },
     "execution_count": 18,
     "metadata": {},
     "output_type": "execute_result"
    }
   ],
   "source": [
    "X.head(2)"
   ]
  },
  {
   "cell_type": "markdown",
   "metadata": {},
   "source": [
    "## Using auto_arima to determine other components"
   ]
  },
  {
   "cell_type": "code",
   "execution_count": 19,
   "metadata": {},
   "outputs": [
    {
     "name": "stdout",
     "output_type": "stream",
     "text": [
      "Performing stepwise search to minimize aic\n",
      " ARIMA(0,2,0)(0,0,0)[0] intercept   : AIC=25.809, Time=0.43 sec\n",
      " ARIMA(1,2,0)(0,0,0)[0] intercept   : AIC=23.292, Time=0.02 sec\n",
      " ARIMA(0,2,1)(0,0,0)[0] intercept   : AIC=inf, Time=0.10 sec\n",
      " ARIMA(0,2,0)(0,0,0)[0]             : AIC=23.911, Time=0.02 sec\n",
      " ARIMA(2,2,0)(0,0,0)[0] intercept   : AIC=23.920, Time=0.04 sec\n",
      " ARIMA(1,2,1)(0,0,0)[0] intercept   : AIC=inf, Time=0.09 sec\n",
      " ARIMA(2,2,1)(0,0,0)[0] intercept   : AIC=inf, Time=0.07 sec\n",
      " ARIMA(1,2,0)(0,0,0)[0]             : AIC=21.476, Time=0.02 sec\n",
      " ARIMA(2,2,0)(0,0,0)[0]             : AIC=22.144, Time=0.02 sec\n",
      " ARIMA(1,2,1)(0,0,0)[0]             : AIC=18.625, Time=0.03 sec\n",
      " ARIMA(0,2,1)(0,0,0)[0]             : AIC=16.764, Time=0.02 sec\n",
      " ARIMA(0,2,2)(0,0,0)[0]             : AIC=18.516, Time=0.02 sec\n",
      " ARIMA(1,2,2)(0,0,0)[0]             : AIC=inf, Time=0.09 sec\n",
      "\n",
      "Best model:  ARIMA(0,2,1)(0,0,0)[0]          \n",
      "Total fit time: 0.960 seconds\n"
     ]
    }
   ],
   "source": [
    "sarimax = auto_arima(\n",
    "    y, # data\n",
    "    exogenous = X, # INCLUDING EXOGENOUS VARIABLES\n",
    "    start_p = 0,\n",
    "    start_q = 0,\n",
    "    max_p = 3,\n",
    "    max_q = 3,\n",
    "    start_P = 0,\n",
    "    start_Q = 0,\n",
    "    max_P = 3,\n",
    "    max_Q = 3,\n",
    "    d = 2, # we know how much to difference, so don't need to waste time searching for this,\n",
    "    D = 2, # we know how much to difference, so don't need to waste time searching for this,\n",
    "    seasonal = False,\n",
    "    m = 1,\n",
    "    trace=True,\n",
    "    error_action='ignore',  # don't want to know if an order does not work\n",
    "    suppress_warnings=True  # don't want convergence warnings\n",
    ")"
   ]
  },
  {
   "cell_type": "markdown",
   "metadata": {},
   "source": [
    "This model gave us an AIC=16.764. However, note that we eyeballed our d and D settings. We only have 20 rows of data. Let's remove these parameters and see what auto_arima selects instead if its forced to find optimal d and D values."
   ]
  },
  {
   "cell_type": "code",
   "execution_count": 20,
   "metadata": {},
   "outputs": [
    {
     "name": "stdout",
     "output_type": "stream",
     "text": [
      "Performing stepwise search to minimize aic\n",
      " ARIMA(0,2,0)(0,0,0)[0] intercept   : AIC=25.809, Time=0.02 sec\n",
      " ARIMA(1,2,0)(0,0,0)[0] intercept   : AIC=23.292, Time=0.02 sec\n",
      " ARIMA(0,2,1)(0,0,0)[0] intercept   : AIC=inf, Time=0.10 sec\n",
      " ARIMA(0,2,0)(0,0,0)[0]             : AIC=23.911, Time=0.01 sec\n",
      " ARIMA(2,2,0)(0,0,0)[0] intercept   : AIC=23.920, Time=0.03 sec\n",
      " ARIMA(1,2,1)(0,0,0)[0] intercept   : AIC=inf, Time=0.09 sec\n",
      " ARIMA(2,2,1)(0,0,0)[0] intercept   : AIC=inf, Time=0.08 sec\n",
      " ARIMA(1,2,0)(0,0,0)[0]             : AIC=21.476, Time=0.02 sec\n",
      " ARIMA(2,2,0)(0,0,0)[0]             : AIC=22.144, Time=0.02 sec\n",
      " ARIMA(1,2,1)(0,0,0)[0]             : AIC=18.625, Time=0.03 sec\n",
      " ARIMA(0,2,1)(0,0,0)[0]             : AIC=16.764, Time=0.02 sec\n",
      " ARIMA(0,2,2)(0,0,0)[0]             : AIC=18.516, Time=0.02 sec\n",
      " ARIMA(1,2,2)(0,0,0)[0]             : AIC=inf, Time=0.09 sec\n",
      "\n",
      "Best model:  ARIMA(0,2,1)(0,0,0)[0]          \n",
      "Total fit time: 0.535 seconds\n"
     ]
    }
   ],
   "source": [
    "sarimax = auto_arima(\n",
    "    y, # data\n",
    "    exogenous = X, # INCLUDING EXOGENOUS VARIABLES\n",
    "    start_p = 0,\n",
    "    start_q = 0,\n",
    "    max_p = 3,\n",
    "    max_q = 3,\n",
    "    start_P = 0,\n",
    "    start_Q = 0,\n",
    "    max_P = 3,\n",
    "    max_Q = 3,\n",
    "#    d = 0, \n",
    "#    D = 0, \n",
    "    seasonal = False,\n",
    "    m = 1,\n",
    "    trace=True,\n",
    "    error_action='ignore',  # don't want to know if an order does not work\n",
    "    suppress_warnings=True  # don't want convergence warnings\n",
    ")"
   ]
  },
  {
   "cell_type": "code",
   "execution_count": 21,
   "metadata": {},
   "outputs": [
    {
     "name": "stdout",
     "output_type": "stream",
     "text": [
      "order:  (0, 2, 1)\n",
      "seasonal_order:  (0, 0, 0, 0)\n"
     ]
    }
   ],
   "source": [
    "# Check orders\n",
    "print(\"order: \", sarimax.order)\n",
    "print(\"seasonal_order: \", sarimax.seasonal_order)"
   ]
  },
  {
   "cell_type": "code",
   "execution_count": 22,
   "metadata": {},
   "outputs": [
    {
     "data": {
      "text/plain": [
       "Year\n",
       "2000-01-01     6.7\n",
       "2001-01-01     7.3\n",
       "2002-01-01     7.3\n",
       "2003-01-01     7.4\n",
       "2004-01-01     7.8\n",
       "2005-01-01     8.6\n",
       "2006-01-01     8.6\n",
       "2007-01-01     9.0\n",
       "2008-01-01     9.0\n",
       "2009-01-01     9.6\n",
       "2010-01-01     9.6\n",
       "2011-01-01     9.6\n",
       "2012-01-01     9.7\n",
       "2013-01-01    10.0\n",
       "2014-01-01    10.5\n",
       "2015-01-01    10.2\n",
       "2016-01-01     9.7\n",
       "2017-01-01     9.8\n",
       "2018-01-01     9.6\n",
       "2019-01-01     9.6\n",
       "Name: liver_and_intrahepatic_bile_duct, dtype: float64"
      ]
     },
     "execution_count": 22,
     "metadata": {},
     "output_type": "execute_result"
    }
   ],
   "source": [
    "y"
   ]
  },
  {
   "cell_type": "markdown",
   "metadata": {},
   "source": [
    "## Modeling"
   ]
  },
  {
   "cell_type": "code",
   "execution_count": 28,
   "metadata": {},
   "outputs": [
    {
     "name": "stderr",
     "output_type": "stream",
     "text": [
      "/Users/ricardoalatorre/opt/anaconda3/lib/python3.8/site-packages/statsmodels/tsa/base/tsa_model.py:471: ValueWarning: No frequency information was provided, so inferred frequency AS-JAN will be used.\n",
      "  self._init_dates(dates, freq)\n"
     ]
    }
   ],
   "source": [
    "order = (0, 2, 1)\n",
    "seasonal_order = (0, 0, 0, 0)\n",
    "\n",
    "# instantiate\n",
    "air_sarimax = SARIMAX(\n",
    "    y,\n",
    "    X, # INCLUDING EXOGENOUS VARIABLES\n",
    "    order = order, \n",
    "    seasonal_order = seasonal_order,\n",
    "    freq = \"AS-JAN\", # freq helps set the index column of predictions\n",
    "    enforce_stationarity = False # ensure model is not trying to enfore stationarity (use d and D)\n",
    ")\n",
    "\n",
    "#fit\n",
    "fitted_air_sarimax = air_sarimax.fit() # stats model returns fitted model\n",
    "\n",
    "# fit, in case of convergence warning\n",
    "#fitted_air_sarimax = air_sarimax.fit(maxiter = 200, method = \"powell\", disp = 0) # stats model returns fitted model"
   ]
  },
  {
   "cell_type": "code",
   "execution_count": 29,
   "metadata": {},
   "outputs": [
    {
     "name": "stdout",
     "output_type": "stream",
     "text": [
      "                                      SARIMAX Results                                       \n",
      "============================================================================================\n",
      "Dep. Variable:     liver_and_intrahepatic_bile_duct   No. Observations:                   20\n",
      "Model:                             SARIMAX(0, 2, 1)   Log Likelihood                  -2.016\n",
      "Date:                              Fri, 20 Jan 2023   AIC                             18.032\n",
      "Time:                                      09:51:39   BIC                             23.440\n",
      "Sample:                                  01-01-2000   HQIC                            18.309\n",
      "                                       - 01-01-2019                                         \n",
      "Covariance Type:                                opg                                         \n",
      "==============================================================================\n",
      "                 coef    std err          z      P>|z|      [0.025      0.975]\n",
      "------------------------------------------------------------------------------\n",
      "days_co       -0.4302      0.496     -0.868      0.385      -1.402       0.541\n",
      "days_no2      -0.2479      0.115     -2.159      0.031      -0.473      -0.023\n",
      "days_ozone    -0.2519      0.140     -1.796      0.073      -0.527       0.023\n",
      "days_pm2.5    -0.2520      0.128     -1.966      0.049      -0.503      -0.001\n",
      "days_pm10     -0.2235      0.127     -1.765      0.078      -0.472       0.025\n",
      "ma.L1         -0.6930      0.334     -2.073      0.038      -1.348      -0.038\n",
      "sigma2         0.0745      0.068      1.090      0.276      -0.059       0.209\n",
      "===================================================================================\n",
      "Ljung-Box (L1) (Q):                   0.01   Jarque-Bera (JB):                 0.69\n",
      "Prob(Q):                              0.91   Prob(JB):                         0.71\n",
      "Heteroskedasticity (H):               0.55   Skew:                             0.35\n",
      "Prob(H) (two-sided):                  0.53   Kurtosis:                         2.26\n",
      "===================================================================================\n",
      "\n",
      "Warnings:\n",
      "[1] Covariance matrix calculated using the outer product of gradients (complex-step).\n"
     ]
    }
   ],
   "source": [
    "# check summary for issues\n",
    "print(fitted_air_sarimax.summary())"
   ]
  },
  {
   "cell_type": "markdown",
   "metadata": {},
   "source": [
    "It seems a handful of these coefficients have z-scores that render them not particularly significant at the 95% level. Let's remove them and see what we get."
   ]
  },
  {
   "cell_type": "code",
   "execution_count": 30,
   "metadata": {},
   "outputs": [
    {
     "name": "stdout",
     "output_type": "stream",
     "text": [
      "Performing stepwise search to minimize aic\n",
      " ARIMA(0,2,0)(0,0,0)[0] intercept   : AIC=25.809, Time=0.02 sec\n",
      " ARIMA(1,2,0)(0,0,0)[0] intercept   : AIC=23.292, Time=0.02 sec\n",
      " ARIMA(0,2,1)(0,0,0)[0] intercept   : AIC=inf, Time=0.09 sec\n",
      " ARIMA(0,2,0)(0,0,0)[0]             : AIC=23.911, Time=0.01 sec\n",
      " ARIMA(2,2,0)(0,0,0)[0] intercept   : AIC=23.920, Time=0.02 sec\n",
      " ARIMA(1,2,1)(0,0,0)[0] intercept   : AIC=inf, Time=0.09 sec\n",
      " ARIMA(2,2,1)(0,0,0)[0] intercept   : AIC=inf, Time=0.07 sec\n",
      " ARIMA(1,2,0)(0,0,0)[0]             : AIC=21.476, Time=0.01 sec\n",
      " ARIMA(2,2,0)(0,0,0)[0]             : AIC=22.144, Time=0.02 sec\n",
      " ARIMA(1,2,1)(0,0,0)[0]             : AIC=18.625, Time=0.03 sec\n",
      " ARIMA(0,2,1)(0,0,0)[0]             : AIC=16.764, Time=0.02 sec\n",
      " ARIMA(0,2,2)(0,0,0)[0]             : AIC=18.516, Time=0.02 sec\n",
      " ARIMA(1,2,2)(0,0,0)[0]             : AIC=inf, Time=0.09 sec\n",
      "\n",
      "Best model:  ARIMA(0,2,1)(0,0,0)[0]          \n",
      "Total fit time: 0.526 seconds\n"
     ]
    }
   ],
   "source": [
    "sarimax = auto_arima(\n",
    "    y, # data\n",
    "    exogenous = X, # INCLUDING EXOGENOUS VARIABLES\n",
    "    start_p = 0,\n",
    "    start_q = 0,\n",
    "    max_p = 3,\n",
    "    max_q = 3,\n",
    "    start_P = 0,\n",
    "    start_Q = 0,\n",
    "    max_P = 3,\n",
    "    max_Q = 3,\n",
    "#    d = 0, \n",
    "#    D = 0, \n",
    "    seasonal = False,\n",
    "    m = 1,\n",
    "    trace=True,\n",
    "    error_action='ignore',  # don't want to know if an order does not work\n",
    "    suppress_warnings=True  # don't want convergence warnings\n",
    ")"
   ]
  },
  {
   "cell_type": "code",
   "execution_count": 31,
   "metadata": {},
   "outputs": [
    {
     "name": "stderr",
     "output_type": "stream",
     "text": [
      "/Users/ricardoalatorre/opt/anaconda3/lib/python3.8/site-packages/statsmodels/tsa/base/tsa_model.py:471: ValueWarning: No frequency information was provided, so inferred frequency AS-JAN will be used.\n",
      "  self._init_dates(dates, freq)\n",
      "/Users/ricardoalatorre/opt/anaconda3/lib/python3.8/site-packages/statsmodels/tsa/base/tsa_model.py:471: ValueWarning: No frequency information was provided, so inferred frequency AS-JAN will be used.\n",
      "  self._init_dates(dates, freq)\n"
     ]
    }
   ],
   "source": [
    "order = (0, 2, 1)\n",
    "seasonal_order = (0, 0, 0, 0)\n",
    "\n",
    "# instantiate\n",
    "air_sarimax = SARIMAX(\n",
    "    y,\n",
    "    X, # INCLUDING EXOGENOUS VARIABLES\n",
    "    order = order, \n",
    "    seasonal_order = seasonal_order,\n",
    "    #freq = None, # freq helps set the index column of predictions\n",
    "    enforce_stationarity = False # ensure model is not trying to enfore stationarity (use d and D)\n",
    ")\n",
    "\n",
    "#fit\n",
    "fitted_air_sarimax = air_sarimax.fit() # stats model returns fitted model\n",
    "\n",
    "# fit, in case of convergence warning\n",
    "#fitted_air_sarimax = air_sarimax.fit(maxiter = 200, method = \"powell\", disp = 0) # stats model returns fitted model"
   ]
  },
  {
   "cell_type": "code",
   "execution_count": 34,
   "metadata": {},
   "outputs": [
    {
     "name": "stdout",
     "output_type": "stream",
     "text": [
      "                                      SARIMAX Results                                       \n",
      "============================================================================================\n",
      "Dep. Variable:     liver_and_intrahepatic_bile_duct   No. Observations:                   20\n",
      "Model:                             SARIMAX(0, 2, 1)   Log Likelihood                  -2.016\n",
      "Date:                              Fri, 20 Jan 2023   AIC                             18.032\n",
      "Time:                                      09:52:02   BIC                             23.440\n",
      "Sample:                                  01-01-2000   HQIC                            18.309\n",
      "                                       - 01-01-2019                                         \n",
      "Covariance Type:                                opg                                         \n",
      "==============================================================================\n",
      "                 coef    std err          z      P>|z|      [0.025      0.975]\n",
      "------------------------------------------------------------------------------\n",
      "days_co       -0.4302      0.496     -0.868      0.385      -1.402       0.541\n",
      "days_no2      -0.2479      0.115     -2.159      0.031      -0.473      -0.023\n",
      "days_ozone    -0.2519      0.140     -1.796      0.073      -0.527       0.023\n",
      "days_pm2.5    -0.2520      0.128     -1.966      0.049      -0.503      -0.001\n",
      "days_pm10     -0.2235      0.127     -1.765      0.078      -0.472       0.025\n",
      "ma.L1         -0.6930      0.334     -2.073      0.038      -1.348      -0.038\n",
      "sigma2         0.0745      0.068      1.090      0.276      -0.059       0.209\n",
      "===================================================================================\n",
      "Ljung-Box (L1) (Q):                   0.01   Jarque-Bera (JB):                 0.69\n",
      "Prob(Q):                              0.91   Prob(JB):                         0.71\n",
      "Heteroskedasticity (H):               0.55   Skew:                             0.35\n",
      "Prob(H) (two-sided):                  0.53   Kurtosis:                         2.26\n",
      "===================================================================================\n",
      "\n",
      "Warnings:\n",
      "[1] Covariance matrix calculated using the outer product of gradients (complex-step).\n"
     ]
    }
   ],
   "source": [
    "# check summary for issues\n",
    "print(fitted_air_sarimax.summary())"
   ]
  },
  {
   "cell_type": "markdown",
   "metadata": {},
   "source": [
    "## Model Predictions\n",
    "\n",
    "Some considerations this time:\n",
    "1. Since we did not conduct a train/test split, we'll need to pick an arbitrary date within the dataset to start forecasting from\n",
    "1. Since we trained on the entire dataset, the `.predict` method can now properly make \"in-sample\" predictions, since it has the TRUE values (no need to use multi-step out-of-sample forecasting!)."
   ]
  },
  {
   "cell_type": "code",
   "execution_count": 35,
   "metadata": {},
   "outputs": [
    {
     "data": {
      "text/plain": [
       "16"
      ]
     },
     "execution_count": 35,
     "metadata": {},
     "output_type": "execute_result"
    }
   ],
   "source": [
    "# starting index: about 80% into dataset\n",
    "starting_index = round(len(y) * .8)\n",
    "starting_index"
   ]
  },
  {
   "cell_type": "code",
   "execution_count": 36,
   "metadata": {},
   "outputs": [],
   "source": [
    "# Test predictions (that are actually in-sample!)\n",
    "air_test_preds = fitted_air_sarimax.predict(start = 16, dynamic = False, exog=X) "
   ]
  },
  {
   "cell_type": "code",
   "execution_count": 38,
   "metadata": {},
   "outputs": [
    {
     "data": {
      "image/png": "[encoded data removed]",
      "text/plain": [
       "<Figure size 864x360 with 1 Axes>"
      ]
     },
     "metadata": {
      "needs_background": "light"
     },
     "output_type": "display_data"
    }
   ],
   "source": [
    "# Old visualization function doesn't work properly without train/test split\n",
    "plt.figure(figsize=(12,5))\n",
    "plt.title(\"Liver Cancer Incidence Rate (new cases per 100k people)\")\n",
    "\n",
    "# train data\n",
    "plt.plot(y.index, y, lw=1, color='blue', ls='solid', label='Train Data')\n",
    "\n",
    "# test predictions\n",
    "plt.plot(air_test_preds.index, air_test_preds, lw=1, color='red', ls='dashed', label='Forecast')\n",
    "\n",
    "#  labels\n",
    "plt.xlabel(\"Date\")\n",
    "plt.ylabel(\"Liver Cancer Incidence\")\n",
    "\n",
    "# legend\n",
    "plt.legend(loc = \"upper left\");"
   ]
  },
  {
   "cell_type": "code",
   "execution_count": 39,
   "metadata": {},
   "outputs": [],
   "source": [
    "start_date = 16\n",
    "end_date = 19\n",
    "\n",
    "prediction_obj = fitted_air_sarimax.get_prediction(start_date, end_date, exog=X, dynamic = False)\n",
    "\n",
    "# Test predictions (that are actually in-sample!)\n",
    "new_air_test_preds = prediction_obj.predicted_mean\n",
    "\n",
    "# Test prediction confidence intervals\n",
    "air_conf_ints = prediction_obj.conf_int()\n",
    "air_lower_ints = air_conf_ints.iloc[:,0]\n",
    "air_upper_ints = air_conf_ints.iloc[:,1]"
   ]
  },
  {
   "cell_type": "code",
   "execution_count": 40,
   "metadata": {},
   "outputs": [
    {
     "data": {
      "image/png": "[encoded data removed]",
      "text/plain": [
       "<Figure size 864x360 with 1 Axes>"
      ]
     },
     "metadata": {
      "needs_background": "light"
     },
     "output_type": "display_data"
    }
   ],
   "source": [
    "# Old visualization function doesn't work properly without train/test split\n",
    "plt.figure(figsize=(12,5))\n",
    "plt.title(\"Liver Cancer Incidence Rate (new cases per 100k people)\")\n",
    "\n",
    "# train data\n",
    "plt.plot(y.index, y, lw=1, color='blue', ls='solid', label='Train Data')\n",
    "\n",
    "# test predictions\n",
    "plt.plot(new_air_test_preds.index, new_air_test_preds, lw=1, color='red', ls='dashed', label='Forecast')\n",
    "\n",
    "#  labels\n",
    "plt.xlabel(\"Date\")\n",
    "plt.ylabel(\"Liver Cancer Incidence Rate\")\n",
    "\n",
    "# confidence intervals\n",
    "plt.fill_between(new_air_test_preds.index, air_lower_ints, air_upper_ints, color='k', alpha=0.1, label =\"95% conf. int.\");\n",
    "# legend\n",
    "plt.legend(loc = \"upper left\");"
   ]
  },
  {
   "cell_type": "markdown",
   "metadata": {},
   "source": [
    "## Model Scoring"
   ]
  },
  {
   "cell_type": "code",
   "execution_count": 41,
   "metadata": {},
   "outputs": [
    {
     "data": {
      "text/plain": [
       "-4.268247646698695"
      ]
     },
     "execution_count": 41,
     "metadata": {},
     "output_type": "execute_result"
    }
   ],
   "source": [
    "# \"Test\" score\n",
    "r2_score(y[start_date:], air_test_preds)\n",
    "\n",
    "\n",
    "# \"Test\" score\n",
    "# r2_score(y[start_date:], air_test_preds)"
   ]
  },
  {
   "cell_type": "code",
   "execution_count": 42,
   "metadata": {},
   "outputs": [],
   "source": [
    "def mape(actual, pred): \n",
    "    actual, pred = np.array(actual), np.array(pred)\n",
    "    return np.mean(np.abs((actual - pred) / actual)) * 100"
   ]
  },
  {
   "cell_type": "code",
   "execution_count": 43,
   "metadata": {},
   "outputs": [
    {
     "data": {
      "text/plain": [
       "1.6152334889064583"
      ]
     },
     "execution_count": 43,
     "metadata": {},
     "output_type": "execute_result"
    }
   ],
   "source": [
    "mape(y[start_date:], air_test_preds)"
   ]
  },
  {
   "cell_type": "markdown",
   "metadata": {},
   "source": [
    "On one hand, our R2 score was terrible. The apparent coarseness of our model likely stems from the fact we're working from a dataset with 20 rows. However, our Mean Absolute Percentage Error is 1.63%. It seems our model does a decent job of predicting cancer incidence rates!"
   ]
  },
  {
   "cell_type": "markdown",
   "metadata": {},
   "source": [
    "There are many other cancers in our dataset. Up next, we will present the results of a handful of ARIMAX models for other cancers that yielded statistically significant coefficients and reasonably-accurate predictions as measured by MAPE."
   ]
  },
  {
   "cell_type": "markdown",
   "metadata": {},
   "source": [
    "## Oral Cavity and Pharyx Cancer"
   ]
  },
  {
   "cell_type": "code",
   "execution_count": 45,
   "metadata": {},
   "outputs": [
    {
     "name": "stdout",
     "output_type": "stream",
     "text": [
      "Performing stepwise search to minimize aic\n",
      " ARIMA(0,0,0)(0,0,0)[0]             : AIC=152.302, Time=0.01 sec\n",
      " ARIMA(1,0,0)(0,0,0)[0]             : AIC=inf, Time=0.04 sec\n",
      " ARIMA(0,0,1)(0,0,0)[0]             : AIC=inf, Time=0.03 sec\n",
      " ARIMA(1,0,1)(0,0,0)[0]             : AIC=5.608, Time=0.04 sec\n",
      " ARIMA(2,0,1)(0,0,0)[0]             : AIC=inf, Time=0.06 sec\n",
      " ARIMA(1,0,2)(0,0,0)[0]             : AIC=6.230, Time=0.08 sec\n",
      " ARIMA(0,0,2)(0,0,0)[0]             : AIC=inf, Time=0.05 sec\n",
      " ARIMA(2,0,0)(0,0,0)[0]             : AIC=inf, Time=0.04 sec\n",
      " ARIMA(2,0,2)(0,0,0)[0]             : AIC=inf, Time=0.07 sec\n",
      " ARIMA(1,0,1)(0,0,0)[0] intercept   : AIC=-4.693, Time=0.12 sec\n",
      " ARIMA(0,0,1)(0,0,0)[0] intercept   : AIC=-6.991, Time=0.02 sec\n",
      " ARIMA(0,0,0)(0,0,0)[0] intercept   : AIC=-4.502, Time=0.02 sec\n",
      " ARIMA(0,0,2)(0,0,0)[0] intercept   : AIC=-5.173, Time=0.03 sec\n",
      " ARIMA(1,0,0)(0,0,0)[0] intercept   : AIC=-6.553, Time=0.02 sec\n",
      " ARIMA(1,0,2)(0,0,0)[0] intercept   : AIC=-3.033, Time=0.06 sec\n",
      "\n",
      "Best model:  ARIMA(0,0,1)(0,0,0)[0] intercept\n",
      "Total fit time: 0.697 seconds\n"
     ]
    }
   ],
   "source": [
    "arimax_ocp = ts_data_grouped[['days_no2','days_ozone', 'days_pm2.5', \n",
    "                                'oral_cavity_and_pharynx']]\n",
    "\n",
    "arimax_ocp.index = pd.to_datetime(arimax_ocp.index, format='%Y')\n",
    "\n",
    "X = arimax_ocp.drop(columns=['oral_cavity_and_pharynx'])\n",
    "y = arimax_ocp['oral_cavity_and_pharynx']\n",
    "\n",
    "sarimax = auto_arima(\n",
    "    y, # data\n",
    "    exogenous = X, # INCLUDING EXOGENOUS VARIABLES\n",
    "    start_p = 0,\n",
    "    start_q = 0,\n",
    "    max_p = 3,\n",
    "    max_q = 3,\n",
    "    start_P = 0,\n",
    "    start_Q = 0,\n",
    "    max_P = 3,\n",
    "    max_Q = 3,\n",
    "#    d = 0, \n",
    "#    D = 0, \n",
    "    seasonal = False,\n",
    "    m = 1,\n",
    "    trace=True,\n",
    "    error_action='ignore',  # don't want to know if an order does not work\n",
    "    suppress_warnings=True  # don't want convergence warnings\n",
    ")"
   ]
  },
  {
   "cell_type": "code",
   "execution_count": 54,
   "metadata": {},
   "outputs": [
    {
     "name": "stderr",
     "output_type": "stream",
     "text": [
      "/Users/ricardoalatorre/opt/anaconda3/lib/python3.8/site-packages/statsmodels/tsa/base/tsa_model.py:471: ValueWarning: No frequency information was provided, so inferred frequency AS-JAN will be used.\n",
      "  self._init_dates(dates, freq)\n",
      "/Users/ricardoalatorre/opt/anaconda3/lib/python3.8/site-packages/statsmodels/tsa/base/tsa_model.py:471: ValueWarning: No frequency information was provided, so inferred frequency AS-JAN will be used.\n",
      "  self._init_dates(dates, freq)\n"
     ]
    }
   ],
   "source": [
    "order = (0, 0, 1)\n",
    "seasonal_order = (0, 0, 0, 0)\n",
    "\n",
    "# instantiate\n",
    "air_sarimax = SARIMAX(\n",
    "    y,\n",
    "    X, # INCLUDING EXOGENOUS VARIABLES\n",
    "    order = order, \n",
    "    seasonal_order = seasonal_order,\n",
    "    #freq = None, # freq helps set the index column of predictions\n",
    "    enforce_stationarity = False # ensure model is not trying to enfore stationarity (use d and D)\n",
    ")\n",
    "\n",
    "#fit\n",
    "#fitted_air_sarimax = air_sarimax.fit() # stats model returns fitted model\n",
    "\n",
    "# fit, in case of convergence warning\n",
    "fitted_air_sarimax = air_sarimax.fit(maxiter = 200, method = \"powell\", disp = 0) # stats model returns fitted model"
   ]
  },
  {
   "cell_type": "code",
   "execution_count": 56,
   "metadata": {},
   "outputs": [
    {
     "name": "stdout",
     "output_type": "stream",
     "text": [
      "                                  SARIMAX Results                                  \n",
      "===================================================================================\n",
      "Dep. Variable:     oral_cavity_and_pharynx   No. Observations:                   20\n",
      "Model:                    SARIMAX(0, 0, 1)   Log Likelihood                   8.746\n",
      "Date:                     Fri, 20 Jan 2023   AIC                             -7.492\n",
      "Time:                             10:13:14   BIC                             -3.041\n",
      "Sample:                         01-01-2000   HQIC                            -6.879\n",
      "                              - 01-01-2019                                         \n",
      "Covariance Type:                       opg                                         \n",
      "==============================================================================\n",
      "                 coef    std err          z      P>|z|      [0.025      0.975]\n",
      "------------------------------------------------------------------------------\n",
      "days_no2       0.0331      0.006      5.649      0.000       0.022       0.045\n",
      "days_ozone     0.0266      0.002     12.600      0.000       0.022       0.031\n",
      "days_pm2.5     0.0316      0.003     12.503      0.000       0.027       0.037\n",
      "ma.L1          0.9958      6.153      0.162      0.871     -11.065      13.056\n",
      "sigma2         0.0189      0.111      0.170      0.865      -0.199       0.237\n",
      "===================================================================================\n",
      "Ljung-Box (L1) (Q):                   0.22   Jarque-Bera (JB):                 1.59\n",
      "Prob(Q):                              0.64   Prob(JB):                         0.45\n",
      "Heteroskedasticity (H):               1.42   Skew:                             0.58\n",
      "Prob(H) (two-sided):                  0.68   Kurtosis:                         2.13\n",
      "===================================================================================\n",
      "\n",
      "Warnings:\n",
      "[1] Covariance matrix calculated using the outer product of gradients (complex-step).\n"
     ]
    }
   ],
   "source": [
    "# check summary for issues\n",
    "print(fitted_air_sarimax.summary())"
   ]
  },
  {
   "cell_type": "markdown",
   "metadata": {},
   "source": [
    "Looks like NO2, Ozone, and PM2.5 levels are directly linked to this particular type of cancer! Let's run some predictions and see what we get."
   ]
  },
  {
   "cell_type": "code",
   "execution_count": 48,
   "metadata": {},
   "outputs": [],
   "source": [
    "# Test predictions (that are actually in-sample!)\n",
    "air_test_preds = fitted_air_sarimax.predict(start = 16, dynamic = False, exog=X) "
   ]
  },
  {
   "cell_type": "code",
   "execution_count": 57,
   "metadata": {},
   "outputs": [],
   "source": [
    "start_date = 16\n",
    "end_date = 19\n",
    "\n",
    "prediction_obj = fitted_air_sarimax.get_prediction(start_date, end_date, exog=X, dynamic = False)\n",
    "\n",
    "# Test predictions (that are actually in-sample!)\n",
    "new_air_test_preds = prediction_obj.predicted_mean\n",
    "\n",
    "# Test prediction confidence intervals\n",
    "air_conf_ints = prediction_obj.conf_int()\n",
    "air_lower_ints = air_conf_ints.iloc[:,0]\n",
    "air_upper_ints = air_conf_ints.iloc[:,1]"
   ]
  },
  {
   "cell_type": "code",
   "execution_count": 58,
   "metadata": {},
   "outputs": [
    {
     "data": {
      "image/png": "[encoded data removed]",
      "text/plain": [
       "<Figure size 864x360 with 1 Axes>"
      ]
     },
     "metadata": {
      "needs_background": "light"
     },
     "output_type": "display_data"
    }
   ],
   "source": [
    "plt.figure(figsize=(12,5))\n",
    "plt.title(\"Oral Cavity and Pharynx Cancer Incidence Rate (new cases per 100k people)\")\n",
    "\n",
    "# train data\n",
    "plt.plot(y.index, y, lw=1, color='blue', ls='solid', label='Train Data')\n",
    "\n",
    "# test predictions\n",
    "plt.plot(new_air_test_preds.index, new_air_test_preds, lw=1, color='red', ls='dashed', label='Forecast')\n",
    "\n",
    "#  labels\n",
    "plt.xlabel(\"Date\")\n",
    "plt.ylabel(\"Oral Cavity and Pharynx Cancer Incidence Rate\")\n",
    "\n",
    "# confidence intervals\n",
    "plt.fill_between(new_air_test_preds.index, air_lower_ints, air_upper_ints, color='k', alpha=0.1, label =\"95% conf. int.\");\n",
    "# legend\n",
    "plt.legend(loc = \"upper left\");"
   ]
  },
  {
   "cell_type": "code",
   "execution_count": 51,
   "metadata": {},
   "outputs": [
    {
     "data": {
      "text/plain": [
       "-0.17585694147939246"
      ]
     },
     "execution_count": 51,
     "metadata": {},
     "output_type": "execute_result"
    }
   ],
   "source": [
    "# \"Test\" score\n",
    "r2_score(y[start_date:], air_test_preds)"
   ]
  },
  {
   "cell_type": "code",
   "execution_count": 59,
   "metadata": {},
   "outputs": [
    {
     "data": {
      "text/plain": [
       "1.0776778638280484"
      ]
     },
     "execution_count": 59,
     "metadata": {},
     "output_type": "execute_result"
    }
   ],
   "source": [
    "mape(y[start_date:], air_test_preds)"
   ]
  },
  {
   "cell_type": "markdown",
   "metadata": {},
   "source": [
    "Our MAPE of 1.07% suggests our model does reasonably well predicting cancer incidence rates!"
   ]
  },
  {
   "cell_type": "markdown",
   "metadata": {},
   "source": [
    "# Pancreas"
   ]
  },
  {
   "cell_type": "code",
   "execution_count": 60,
   "metadata": {},
   "outputs": [
    {
     "name": "stdout",
     "output_type": "stream",
     "text": [
      "Performing stepwise search to minimize aic\n",
      " ARIMA(0,1,0)(0,0,0)[0] intercept   : AIC=12.841, Time=0.03 sec\n",
      " ARIMA(1,1,0)(0,0,0)[0] intercept   : AIC=10.010, Time=0.02 sec\n",
      " ARIMA(0,1,1)(0,0,0)[0] intercept   : AIC=inf, Time=0.06 sec\n",
      " ARIMA(0,1,0)(0,0,0)[0]             : AIC=12.070, Time=0.01 sec\n",
      " ARIMA(2,1,0)(0,0,0)[0] intercept   : AIC=8.869, Time=0.02 sec\n",
      " ARIMA(3,1,0)(0,0,0)[0] intercept   : AIC=9.179, Time=0.06 sec\n",
      " ARIMA(2,1,1)(0,0,0)[0] intercept   : AIC=inf, Time=0.13 sec\n",
      " ARIMA(1,1,1)(0,0,0)[0] intercept   : AIC=inf, Time=0.07 sec\n",
      " ARIMA(3,1,1)(0,0,0)[0] intercept   : AIC=inf, Time=0.13 sec\n",
      " ARIMA(2,1,0)(0,0,0)[0]             : AIC=11.957, Time=0.03 sec\n",
      "\n",
      "Best model:  ARIMA(2,1,0)(0,0,0)[0] intercept\n",
      "Total fit time: 0.576 seconds\n"
     ]
    }
   ],
   "source": [
    "arimax_pancreas = ts_data_grouped[['days_co', 'days_no2','days_ozone', 'days_pm2.5', 'days_pm10', \n",
    "                                'pancreas']]\n",
    "\n",
    "arimax_pancreas.index = pd.to_datetime(arimax_pancreas.index, format='%Y')\n",
    "\n",
    "X = arimax_pancreas.drop(columns=['pancreas'])\n",
    "y = arimax_pancreas['pancreas']\n",
    "\n",
    "sarimax = auto_arima(\n",
    "    y, # data\n",
    "    exogenous = X, # INCLUDING EXOGENOUS VARIABLES\n",
    "    start_p = 0,\n",
    "    start_q = 0,\n",
    "    max_p = 3,\n",
    "    max_q = 3,\n",
    "    start_P = 0,\n",
    "    start_Q = 0,\n",
    "    max_P = 3,\n",
    "    max_Q = 3,\n",
    "#    d = 0, \n",
    "#    D = 0, \n",
    "    seasonal = False,\n",
    "    m = 1,\n",
    "    trace=True,\n",
    "    error_action='ignore',  # don't want to know if an order does not work\n",
    "    suppress_warnings=True  # don't want convergence warnings\n",
    ")"
   ]
  },
  {
   "cell_type": "code",
   "execution_count": 63,
   "metadata": {},
   "outputs": [
    {
     "name": "stderr",
     "output_type": "stream",
     "text": [
      "/Users/ricardoalatorre/opt/anaconda3/lib/python3.8/site-packages/statsmodels/tsa/base/tsa_model.py:471: ValueWarning: No frequency information was provided, so inferred frequency AS-JAN will be used.\n",
      "  self._init_dates(dates, freq)\n",
      "/Users/ricardoalatorre/opt/anaconda3/lib/python3.8/site-packages/statsmodels/tsa/base/tsa_model.py:471: ValueWarning: No frequency information was provided, so inferred frequency AS-JAN will be used.\n",
      "  self._init_dates(dates, freq)\n"
     ]
    },
    {
     "name": "stdout",
     "output_type": "stream",
     "text": [
      "                               SARIMAX Results                                \n",
      "==============================================================================\n",
      "Dep. Variable:               pancreas   No. Observations:                   20\n",
      "Model:               SARIMAX(2, 1, 0)   Log Likelihood                   0.631\n",
      "Date:                Fri, 20 Jan 2023   AIC                             14.737\n",
      "Time:                        10:17:37   BIC                             21.403\n",
      "Sample:                    01-01-2000   HQIC                            15.400\n",
      "                         - 01-01-2019                                         \n",
      "Covariance Type:                  opg                                         \n",
      "==============================================================================\n",
      "                 coef    std err          z      P>|z|      [0.025      0.975]\n",
      "------------------------------------------------------------------------------\n",
      "days_co        0.7301      0.502      1.453      0.146      -0.254       1.715\n",
      "days_no2       0.3507      0.141      2.486      0.013       0.074       0.627\n",
      "days_ozone     0.3700      0.149      2.491      0.013       0.079       0.661\n",
      "days_pm2.5     0.3640      0.147      2.480      0.013       0.076       0.652\n",
      "days_pm10      0.2914      0.162      1.801      0.072      -0.026       0.608\n",
      "ar.L1          0.1868      0.465      0.402      0.688      -0.725       1.099\n",
      "ar.L2         -0.5835      0.249     -2.340      0.019      -1.072      -0.095\n",
      "sigma2         0.0544      0.030      1.800      0.072      -0.005       0.114\n",
      "===================================================================================\n",
      "Ljung-Box (L1) (Q):                   0.81   Jarque-Bera (JB):                 0.94\n",
      "Prob(Q):                              0.37   Prob(JB):                         0.63\n",
      "Heteroskedasticity (H):               0.18   Skew:                             0.56\n",
      "Prob(H) (two-sided):                  0.06   Kurtosis:                         3.24\n",
      "===================================================================================\n",
      "\n",
      "Warnings:\n",
      "[1] Covariance matrix calculated using the outer product of gradients (complex-step).\n"
     ]
    }
   ],
   "source": [
    "order = (2,1,0)\n",
    "seasonal_order = (0, 0, 0, 0)\n",
    "\n",
    "# instantiate\n",
    "air_sarimax = SARIMAX(\n",
    "    y,\n",
    "    X, # INCLUDING EXOGENOUS VARIABLES\n",
    "    order = order, \n",
    "    seasonal_order = seasonal_order,\n",
    "    #freq = None, # freq helps set the index column of predictions\n",
    "    enforce_stationarity = False # ensure model is not trying to enfore stationarity (use d and D)\n",
    ")\n",
    "\n",
    "#fit\n",
    "#fitted_air_sarimax = air_sarimax.fit() # stats model returns fitted model\n",
    "\n",
    "# fit, in case of convergence warning\n",
    "fitted_air_sarimax = air_sarimax.fit(maxiter = 200, method = \"powell\", disp = 0) # stats model returns fitted model\n",
    "\n",
    "# check summary for issues\n",
    "print(fitted_air_sarimax.summary())"
   ]
  },
  {
   "cell_type": "markdown",
   "metadata": {},
   "source": [
    "It seems NO2, Ozone, PM2.5, and (to a lesser extent) PM10 are directly linked to pancreatic cancer incidence."
   ]
  },
  {
   "cell_type": "code",
   "execution_count": 62,
   "metadata": {},
   "outputs": [],
   "source": [
    "# Test predictions (that are actually in-sample!)\n",
    "air_test_preds = fitted_air_sarimax.predict(start = 16, dynamic = False, exog=X) "
   ]
  },
  {
   "cell_type": "code",
   "execution_count": 65,
   "metadata": {},
   "outputs": [],
   "source": [
    "start_date = 16\n",
    "end_date = 19\n",
    "\n",
    "prediction_obj = fitted_air_sarimax.get_prediction(start_date, end_date, exog=X, dynamic = False)\n",
    "\n",
    "# Test predictions (that are actually in-sample!)\n",
    "new_air_test_preds = prediction_obj.predicted_mean\n",
    "\n",
    "# Test prediction confidence intervals\n",
    "air_conf_ints = prediction_obj.conf_int()\n",
    "air_lower_ints = air_conf_ints.iloc[:,0]\n",
    "air_upper_ints = air_conf_ints.iloc[:,1]"
   ]
  },
  {
   "cell_type": "code",
   "execution_count": 67,
   "metadata": {},
   "outputs": [
    {
     "data": {
      "image/png": "[encoded data removed]",
      "text/plain": [
       "<Figure size 864x360 with 1 Axes>"
      ]
     },
     "metadata": {
      "needs_background": "light"
     },
     "output_type": "display_data"
    }
   ],
   "source": [
    "plt.figure(figsize=(12,5))\n",
    "plt.title(\"Pancreatic Cancer Incidence Rate (New Cases per 100k People)\")\n",
    "\n",
    "# train data\n",
    "plt.plot(y.index, y, lw=1, color='blue', ls='solid', label='Train Data')\n",
    "\n",
    "# test predictions\n",
    "plt.plot(new_air_test_preds.index, new_air_test_preds, lw=1, color='red', ls='dashed', label='Forecast')\n",
    "\n",
    "#  labels\n",
    "plt.xlabel(\"Date\")\n",
    "plt.ylabel(\"Pancreatic Cancer Incidence Rate\")\n",
    "\n",
    "# confidence intervals\n",
    "plt.fill_between(new_air_test_preds.index, air_lower_ints, air_upper_ints, color='k', alpha=0.1, label =\"95% conf. int.\");\n",
    "# legend\n",
    "plt.legend(loc = \"upper left\");"
   ]
  },
  {
   "cell_type": "code",
   "execution_count": 68,
   "metadata": {},
   "outputs": [
    {
     "data": {
      "text/plain": [
       "-0.06000325935543782"
      ]
     },
     "execution_count": 68,
     "metadata": {},
     "output_type": "execute_result"
    }
   ],
   "source": [
    "# \"Test\" score\n",
    "r2_score(y[start_date:], new_air_test_preds)"
   ]
  },
  {
   "cell_type": "code",
   "execution_count": 70,
   "metadata": {},
   "outputs": [
    {
     "data": {
      "text/plain": [
       "1.0311240602616965"
      ]
     },
     "execution_count": 70,
     "metadata": {},
     "output_type": "execute_result"
    }
   ],
   "source": [
    "mape(y[start_date:], new_air_test_preds)"
   ]
  },
  {
   "cell_type": "markdown",
   "metadata": {},
   "source": [
    "We again have a solid MAPE score of ~ 1.03%"
   ]
  },
  {
   "cell_type": "markdown",
   "metadata": {},
   "source": [
    "# Leukemias"
   ]
  },
  {
   "cell_type": "code",
   "execution_count": 71,
   "metadata": {},
   "outputs": [
    {
     "name": "stdout",
     "output_type": "stream",
     "text": [
      "Performing stepwise search to minimize aic\n",
      " ARIMA(0,0,0)(0,0,0)[0]             : AIC=160.832, Time=0.01 sec\n",
      " ARIMA(1,0,0)(0,0,0)[0]             : AIC=inf, Time=0.03 sec\n",
      " ARIMA(0,0,1)(0,0,0)[0]             : AIC=inf, Time=0.03 sec\n",
      " ARIMA(1,0,1)(0,0,0)[0]             : AIC=21.986, Time=0.03 sec\n",
      " ARIMA(2,0,1)(0,0,0)[0]             : AIC=24.002, Time=0.07 sec\n",
      " ARIMA(1,0,2)(0,0,0)[0]             : AIC=22.528, Time=0.04 sec\n",
      " ARIMA(0,0,2)(0,0,0)[0]             : AIC=inf, Time=0.05 sec\n",
      " ARIMA(2,0,0)(0,0,0)[0]             : AIC=inf, Time=0.03 sec\n",
      " ARIMA(2,0,2)(0,0,0)[0]             : AIC=23.793, Time=0.06 sec\n",
      " ARIMA(1,0,1)(0,0,0)[0] intercept   : AIC=16.577, Time=0.06 sec\n",
      " ARIMA(0,0,1)(0,0,0)[0] intercept   : AIC=25.504, Time=0.04 sec\n",
      " ARIMA(1,0,0)(0,0,0)[0] intercept   : AIC=14.971, Time=0.06 sec\n",
      " ARIMA(0,0,0)(0,0,0)[0] intercept   : AIC=35.198, Time=0.02 sec\n",
      " ARIMA(2,0,0)(0,0,0)[0] intercept   : AIC=16.257, Time=0.05 sec\n",
      " ARIMA(2,0,1)(0,0,0)[0] intercept   : AIC=18.917, Time=0.13 sec\n",
      "\n",
      "Best model:  ARIMA(1,0,0)(0,0,0)[0] intercept\n",
      "Total fit time: 0.722 seconds\n"
     ]
    }
   ],
   "source": [
    "arimax_leukemias = ts_data_grouped[['days_no2','days_ozone', 'days_pm2.5', \n",
    "                                'leukemias']]\n",
    "\n",
    "arimax_leukemias.index = pd.to_datetime(arimax_leukemias.index, format='%Y')\n",
    "\n",
    "X = arimax_leukemias.drop(columns=['leukemias'])\n",
    "y = arimax_leukemias['leukemias']\n",
    "\n",
    "sarimax = auto_arima(\n",
    "    y, # data\n",
    "    exogenous = X, # INCLUDING EXOGENOUS VARIABLES\n",
    "    start_p = 0,\n",
    "    start_q = 0,\n",
    "    max_p = 3,\n",
    "    max_q = 3,\n",
    "    start_P = 0,\n",
    "    start_Q = 0,\n",
    "    max_P = 3,\n",
    "    max_Q = 3,\n",
    "#    d = 0, \n",
    "#    D = 0, \n",
    "    seasonal = False,\n",
    "    m = 1,\n",
    "    trace=True,\n",
    "    error_action='ignore',  # don't want to know if an order does not work\n",
    "    suppress_warnings=True  # don't want convergence warnings\n",
    ")"
   ]
  },
  {
   "cell_type": "code",
   "execution_count": 73,
   "metadata": {},
   "outputs": [
    {
     "name": "stdout",
     "output_type": "stream",
     "text": [
      "                               SARIMAX Results                                \n",
      "==============================================================================\n",
      "Dep. Variable:              leukemias   No. Observations:                   20\n",
      "Model:               SARIMAX(1, 0, 0)   Log Likelihood                  -2.975\n",
      "Date:                Fri, 20 Jan 2023   AIC                             15.950\n",
      "Time:                        10:23:05   BIC                             20.672\n",
      "Sample:                    01-01-2000   HQIC                            16.749\n",
      "                         - 01-01-2019                                         \n",
      "Covariance Type:                  opg                                         \n",
      "==============================================================================\n",
      "                 coef    std err          z      P>|z|      [0.025      0.975]\n",
      "------------------------------------------------------------------------------\n",
      "days_no2       0.0411      0.022      1.833      0.067      -0.003       0.085\n",
      "days_ozone     0.0339      0.006      6.146      0.000       0.023       0.045\n",
      "days_pm2.5     0.0349      0.005      7.226      0.000       0.025       0.044\n",
      "ar.L1          0.9133      0.179      5.111      0.000       0.563       1.264\n",
      "sigma2         0.0801      0.049      1.634      0.102      -0.016       0.176\n",
      "===================================================================================\n",
      "Ljung-Box (L1) (Q):                   1.90   Jarque-Bera (JB):                 1.18\n",
      "Prob(Q):                              0.17   Prob(JB):                         0.56\n",
      "Heteroskedasticity (H):               2.09   Skew:                            -0.13\n",
      "Prob(H) (two-sided):                  0.39   Kurtosis:                         1.81\n",
      "===================================================================================\n",
      "\n",
      "Warnings:\n",
      "[1] Covariance matrix calculated using the outer product of gradients (complex-step).\n"
     ]
    },
    {
     "name": "stderr",
     "output_type": "stream",
     "text": [
      "/Users/ricardoalatorre/opt/anaconda3/lib/python3.8/site-packages/statsmodels/tsa/base/tsa_model.py:471: ValueWarning: No frequency information was provided, so inferred frequency AS-JAN will be used.\n",
      "  self._init_dates(dates, freq)\n",
      "/Users/ricardoalatorre/opt/anaconda3/lib/python3.8/site-packages/statsmodels/tsa/base/tsa_model.py:471: ValueWarning: No frequency information was provided, so inferred frequency AS-JAN will be used.\n",
      "  self._init_dates(dates, freq)\n"
     ]
    }
   ],
   "source": [
    "order = (1,0,0)\n",
    "seasonal_order = (0, 0, 0, 0)\n",
    "\n",
    "# instantiate\n",
    "air_sarimax = SARIMAX(\n",
    "    y,\n",
    "    X, # INCLUDING EXOGENOUS VARIABLES\n",
    "    order = order, \n",
    "    seasonal_order = seasonal_order,\n",
    "    #freq = None, # freq helps set the index column of predictions\n",
    "    enforce_stationarity = False # ensure model is not trying to enfore stationarity (use d and D)\n",
    ")\n",
    "\n",
    "#fit\n",
    "fitted_air_sarimax = air_sarimax.fit() # stats model returns fitted model\n",
    "\n",
    "# fit, in case of convergence warning\n",
    "#fitted_air_sarimax = air_sarimax.fit(maxiter = 200, method = \"powell\", disp = 0) # stats model returns fitted model\n",
    "\n",
    "# check summary for issues\n",
    "print(fitted_air_sarimax.summary())"
   ]
  },
  {
   "cell_type": "markdown",
   "metadata": {},
   "source": [
    "When it comes to leukemias, NO2, Ozone, and PM2.5 tend to drive incidence rates."
   ]
  },
  {
   "cell_type": "code",
   "execution_count": 74,
   "metadata": {},
   "outputs": [
    {
     "data": {
      "image/png": "[encoded data removed]",
      "text/plain": [
       "<Figure size 864x360 with 1 Axes>"
      ]
     },
     "metadata": {
      "needs_background": "light"
     },
     "output_type": "display_data"
    }
   ],
   "source": [
    "# Test predictions (that are actually in-sample!)\n",
    "air_test_preds = fitted_air_sarimax.predict(start = 16, dynamic = False, exog=X)\n",
    "\n",
    "start_date = 16\n",
    "end_date = 19\n",
    "\n",
    "prediction_obj = fitted_air_sarimax.get_prediction(start_date, end_date, exog=X, dynamic = False)\n",
    "\n",
    "# Test predictions (that are actually in-sample!)\n",
    "new_air_test_preds = prediction_obj.predicted_mean\n",
    "\n",
    "# Test prediction confidence intervals\n",
    "air_conf_ints = prediction_obj.conf_int()\n",
    "air_lower_ints = air_conf_ints.iloc[:,0]\n",
    "air_upper_ints = air_conf_ints.iloc[:,1]\n",
    "\n",
    "# Old visualization function doesn't work properly without train/test split\n",
    "plt.figure(figsize=(12,5))\n",
    "plt.title(\"Leukemia Incidence Rate (new cases per 100k people)\")\n",
    "\n",
    "# train data\n",
    "plt.plot(y.index, y, lw=1, color='blue', ls='solid', label='Train Data')\n",
    "\n",
    "# test predictions\n",
    "plt.plot(new_air_test_preds.index, new_air_test_preds, lw=1, color='red', ls='dashed', label='Forecast')\n",
    "\n",
    "#  labels\n",
    "plt.xlabel(\"Date\")\n",
    "plt.ylabel(\"Leukemia Cancer Incidence Rate\")\n",
    "\n",
    "# confidence intervals\n",
    "plt.fill_between(new_air_test_preds.index, air_lower_ints, air_upper_ints, color='k', alpha=0.1, label =\"95% conf. int.\");\n",
    "# legend\n",
    "plt.legend(loc = \"upper left\");"
   ]
  },
  {
   "cell_type": "code",
   "execution_count": 75,
   "metadata": {},
   "outputs": [
    {
     "data": {
      "text/plain": [
       "0.2891875973467165"
      ]
     },
     "execution_count": 75,
     "metadata": {},
     "output_type": "execute_result"
    }
   ],
   "source": [
    "# \"Test\" score\n",
    "r2_score(y[start_date:], new_air_test_preds)"
   ]
  },
  {
   "cell_type": "code",
   "execution_count": 77,
   "metadata": {},
   "outputs": [
    {
     "data": {
      "text/plain": [
       "2.1901948348093576"
      ]
     },
     "execution_count": 77,
     "metadata": {},
     "output_type": "execute_result"
    }
   ],
   "source": [
    "mape(y[start_date:], new_air_test_preds)"
   ]
  },
  {
   "cell_type": "markdown",
   "metadata": {},
   "source": [
    "Here our MAPE score is a little bit looser - 2.19%"
   ]
  },
  {
   "cell_type": "markdown",
   "metadata": {},
   "source": [
    "# Urinary Bladder"
   ]
  },
  {
   "cell_type": "code",
   "execution_count": 78,
   "metadata": {},
   "outputs": [
    {
     "name": "stdout",
     "output_type": "stream",
     "text": [
      "Performing stepwise search to minimize aic\n",
      " ARIMA(0,2,0)(0,0,0)[0] intercept   : AIC=33.626, Time=0.03 sec\n",
      " ARIMA(1,2,0)(0,0,0)[0] intercept   : AIC=30.498, Time=0.04 sec\n",
      " ARIMA(0,2,1)(0,0,0)[0] intercept   : AIC=inf, Time=0.05 sec\n",
      " ARIMA(0,2,0)(0,0,0)[0]             : AIC=31.642, Time=0.01 sec\n",
      " ARIMA(2,2,0)(0,0,0)[0] intercept   : AIC=24.816, Time=0.03 sec\n",
      " ARIMA(3,2,0)(0,0,0)[0] intercept   : AIC=21.222, Time=0.04 sec\n",
      " ARIMA(3,2,1)(0,0,0)[0] intercept   : AIC=inf, Time=0.11 sec\n",
      " ARIMA(2,2,1)(0,0,0)[0] intercept   : AIC=inf, Time=0.07 sec\n",
      " ARIMA(3,2,0)(0,0,0)[0]             : AIC=21.571, Time=0.03 sec\n",
      "\n",
      "Best model:  ARIMA(3,2,0)(0,0,0)[0] intercept\n",
      "Total fit time: 0.408 seconds\n"
     ]
    }
   ],
   "source": [
    "arimax_urinary_bladder = ts_data_grouped[['days_co', \n",
    "                                'urinary_bladder']]\n",
    "\n",
    "arimax_urinary_bladder.index = pd.to_datetime(arimax_urinary_bladder.index, format='%Y')\n",
    "\n",
    "X = arimax_urinary_bladder.drop(columns=['urinary_bladder'])\n",
    "y = arimax_urinary_bladder['urinary_bladder']\n",
    "\n",
    "sarimax = auto_arima(\n",
    "    y, # data\n",
    "    exogenous = X, # INCLUDING EXOGENOUS VARIABLES\n",
    "    start_p = 0,\n",
    "    start_q = 0,\n",
    "    max_p = 3,\n",
    "    max_q = 3,\n",
    "    start_P = 0,\n",
    "    start_Q = 0,\n",
    "    max_P = 3,\n",
    "    max_Q = 3,\n",
    "#    d = 0, \n",
    "#    D = 0, \n",
    "    seasonal = False,\n",
    "    m = 1,\n",
    "    trace=True,\n",
    "    error_action='ignore',  # don't want to know if an order does not work\n",
    "    suppress_warnings=True  # don't want convergence warnings\n",
    ")"
   ]
  },
  {
   "cell_type": "code",
   "execution_count": 83,
   "metadata": {},
   "outputs": [
    {
     "name": "stdout",
     "output_type": "stream",
     "text": [
      "                               SARIMAX Results                                \n",
      "==============================================================================\n",
      "Dep. Variable:        urinary_bladder   No. Observations:                   20\n",
      "Model:               SARIMAX(3, 2, 0)   Log Likelihood                   1.081\n",
      "Date:                Fri, 20 Jan 2023   AIC                              7.837\n",
      "Time:                        10:25:09   BIC                             11.378\n",
      "Sample:                    01-01-2000   HQIC                             7.800\n",
      "                         - 01-01-2019                                         \n",
      "Covariance Type:                  opg                                         \n",
      "==============================================================================\n",
      "                 coef    std err          z      P>|z|      [0.025      0.975]\n",
      "------------------------------------------------------------------------------\n",
      "days_co       -0.6578      0.157     -4.190      0.000      -0.966      -0.350\n",
      "ar.L1         -1.0826      0.382     -2.834      0.005      -1.831      -0.334\n",
      "ar.L2         -0.9435      0.452     -2.088      0.037      -1.829      -0.058\n",
      "ar.L3         -0.1463      0.495     -0.295      0.768      -1.117       0.825\n",
      "sigma2         0.0507      0.027      1.851      0.064      -0.003       0.104\n",
      "===================================================================================\n",
      "Ljung-Box (L1) (Q):                   1.04   Jarque-Bera (JB):                 0.30\n",
      "Prob(Q):                              0.31   Prob(JB):                         0.86\n",
      "Heteroskedasticity (H):               0.55   Skew:                            -0.34\n",
      "Prob(H) (two-sided):                  0.53   Kurtosis:                         2.92\n",
      "===================================================================================\n",
      "\n",
      "Warnings:\n",
      "[1] Covariance matrix calculated using the outer product of gradients (complex-step).\n"
     ]
    },
    {
     "name": "stderr",
     "output_type": "stream",
     "text": [
      "/Users/ricardoalatorre/opt/anaconda3/lib/python3.8/site-packages/statsmodels/tsa/base/tsa_model.py:471: ValueWarning: No frequency information was provided, so inferred frequency AS-JAN will be used.\n",
      "  self._init_dates(dates, freq)\n",
      "/Users/ricardoalatorre/opt/anaconda3/lib/python3.8/site-packages/statsmodels/tsa/base/tsa_model.py:471: ValueWarning: No frequency information was provided, so inferred frequency AS-JAN will be used.\n",
      "  self._init_dates(dates, freq)\n"
     ]
    }
   ],
   "source": [
    "order = (3,2,0)\n",
    "seasonal_order = (0, 0, 0, 0)\n",
    "\n",
    "# instantiate\n",
    "air_sarimax = SARIMAX(\n",
    "    y,\n",
    "    X, # INCLUDING EXOGENOUS VARIABLES\n",
    "    order = order, \n",
    "    seasonal_order = seasonal_order,\n",
    "    #freq = None, # freq helps set the index column of predictions\n",
    "    enforce_stationarity = False # ensure model is not trying to enfore stationarity (use d and D)\n",
    ")\n",
    "\n",
    "#fit\n",
    "fitted_air_sarimax = air_sarimax.fit() # stats model returns fitted model\n",
    "\n",
    "# fit, in case of convergence warning\n",
    "#fitted_air_sarimax = air_sarimax.fit(maxiter = 200, method = \"powell\", disp = 0) # stats model returns fitted model\n",
    "\n",
    "# check summary for issues\n",
    "print(fitted_air_sarimax.summary())"
   ]
  },
  {
   "cell_type": "markdown",
   "metadata": {},
   "source": [
    "An interesting and unintuitive result - judging from the output, it looks like CO reduces urinary bladder cancer incidence. It's also the case that this incidence rate is correlated with its lagged values. This result might be better evaluated with more data. For the same reason the results we've seen so far should be taken with a grain of salt. We're only working with 20 observations! Now let's see how well our model predicts incidence rates."
   ]
  },
  {
   "cell_type": "code",
   "execution_count": 84,
   "metadata": {},
   "outputs": [
    {
     "data": {
      "image/png": "[encoded data removed]",
      "text/plain": [
       "<Figure size 864x360 with 1 Axes>"
      ]
     },
     "metadata": {
      "needs_background": "light"
     },
     "output_type": "display_data"
    }
   ],
   "source": [
    "# Test predictions (that are actually in-sample!)\n",
    "air_test_preds = fitted_air_sarimax.predict(start = 16, dynamic = False, exog=X)\n",
    "\n",
    "start_date = 16\n",
    "end_date = 19\n",
    "\n",
    "prediction_obj = fitted_air_sarimax.get_prediction(start_date, end_date, exog=X, dynamic = False)\n",
    "\n",
    "# Test predictions (that are actually in-sample!)\n",
    "new_air_test_preds = prediction_obj.predicted_mean\n",
    "\n",
    "# Test prediction confidence intervals\n",
    "air_conf_ints = prediction_obj.conf_int()\n",
    "air_lower_ints = air_conf_ints.iloc[:,0]\n",
    "air_upper_ints = air_conf_ints.iloc[:,1]\n",
    "\n",
    "# Old visualization function doesn't work properly without train/test split\n",
    "plt.figure(figsize=(12,5))\n",
    "plt.title(\"Urinary Bladder Incidence Rate (new cases per 100k people)\")\n",
    "\n",
    "# train data\n",
    "plt.plot(y.index, y, lw=1, color='blue', ls='solid', label='Train Data')\n",
    "\n",
    "# test predictions\n",
    "plt.plot(new_air_test_preds.index, new_air_test_preds, lw=1, color='red', ls='dashed', label='Forecast')\n",
    "\n",
    "#  labels\n",
    "plt.xlabel(\"Date\")\n",
    "plt.ylabel(\"Urinary Bladder Cancer Incidence Rate\")\n",
    "\n",
    "# confidence intervals\n",
    "plt.fill_between(new_air_test_preds.index, air_lower_ints, air_upper_ints, color='k', alpha=0.1, label =\"95% conf. int.\");\n",
    "# legend\n",
    "plt.legend(loc = \"upper left\");"
   ]
  },
  {
   "cell_type": "code",
   "execution_count": 86,
   "metadata": {},
   "outputs": [
    {
     "data": {
      "text/plain": [
       "0.9406443675690838"
      ]
     },
     "execution_count": 86,
     "metadata": {},
     "output_type": "execute_result"
    }
   ],
   "source": [
    "# \"Test\" score\n",
    "r2_score(y[start_date:], new_air_test_preds)"
   ]
  },
  {
   "cell_type": "code",
   "execution_count": 88,
   "metadata": {},
   "outputs": [
    {
     "data": {
      "text/plain": [
       "0.8105918100334345"
      ]
     },
     "execution_count": 88,
     "metadata": {},
     "output_type": "execute_result"
    }
   ],
   "source": [
    "mape(y[start_date:], new_air_test_preds)"
   ]
  },
  {
   "cell_type": "markdown",
   "metadata": {},
   "source": [
    "Despite the odd ARIMAX output, this model does an incredible job at predicting incidence rates (MAPE of 0.81% and even an R2 score of 94%)."
   ]
  },
  {
   "cell_type": "markdown",
   "metadata": {},
   "source": [
    "# Cervix"
   ]
  },
  {
   "cell_type": "code",
   "execution_count": 89,
   "metadata": {},
   "outputs": [
    {
     "name": "stdout",
     "output_type": "stream",
     "text": [
      "Performing stepwise search to minimize aic\n",
      " ARIMA(0,1,0)(0,0,0)[0] intercept   : AIC=22.641, Time=0.04 sec\n",
      " ARIMA(1,1,0)(0,0,0)[0] intercept   : AIC=21.646, Time=0.03 sec\n",
      " ARIMA(0,1,1)(0,0,0)[0] intercept   : AIC=22.161, Time=0.03 sec\n",
      " ARIMA(0,1,0)(0,0,0)[0]             : AIC=23.283, Time=0.02 sec\n",
      " ARIMA(2,1,0)(0,0,0)[0] intercept   : AIC=23.607, Time=0.03 sec\n",
      " ARIMA(1,1,1)(0,0,0)[0] intercept   : AIC=23.609, Time=0.05 sec\n",
      " ARIMA(2,1,1)(0,0,0)[0] intercept   : AIC=25.607, Time=0.06 sec\n",
      " ARIMA(1,1,0)(0,0,0)[0]             : AIC=24.010, Time=0.02 sec\n",
      "\n",
      "Best model:  ARIMA(1,1,0)(0,0,0)[0] intercept\n",
      "Total fit time: 0.283 seconds\n"
     ]
    }
   ],
   "source": [
    "arimax_cervix = ts_data_grouped[['days_no2', \n",
    "                                'cervix']]\n",
    "\n",
    "arimax_cervix.index = pd.to_datetime(arimax_cervix.index, format='%Y')\n",
    "\n",
    "X = arimax_cervix.drop(columns=['cervix'])\n",
    "y = arimax_cervix['cervix']\n",
    "\n",
    "sarimax = auto_arima(\n",
    "    y, # data\n",
    "    exogenous = X, # INCLUDING EXOGENOUS VARIABLES\n",
    "    start_p = 0,\n",
    "    start_q = 0,\n",
    "    max_p = 3,\n",
    "    max_q = 3,\n",
    "    start_P = 0,\n",
    "    start_Q = 0,\n",
    "    max_P = 3,\n",
    "    max_Q = 3,\n",
    "#    d = 0, \n",
    "#    D = 0, \n",
    "    seasonal = False,\n",
    "    m = 1,\n",
    "    trace=True,\n",
    "    error_action='ignore',  # don't want to know if an order does not work\n",
    "    suppress_warnings=True  # don't want convergence warnings\n",
    ")"
   ]
  },
  {
   "cell_type": "code",
   "execution_count": 95,
   "metadata": {},
   "outputs": [
    {
     "name": "stdout",
     "output_type": "stream",
     "text": [
      "                               SARIMAX Results                                \n",
      "==============================================================================\n",
      "Dep. Variable:                 cervix   No. Observations:                   20\n",
      "Model:               SARIMAX(1, 1, 0)   Log Likelihood                  -1.822\n",
      "Date:                Fri, 20 Jan 2023   AIC                              9.645\n",
      "Time:                        10:52:42   BIC                             12.316\n",
      "Sample:                    01-01-2000   HQIC                            10.013\n",
      "                         - 01-01-2019                                         \n",
      "Covariance Type:                  opg                                         \n",
      "==============================================================================\n",
      "                 coef    std err          z      P>|z|      [0.025      0.975]\n",
      "------------------------------------------------------------------------------\n",
      "days_no2       0.0372      0.014      2.581      0.010       0.009       0.066\n",
      "ar.L1         -0.5559      0.228     -2.438      0.015      -1.003      -0.109\n",
      "sigma2         0.0717      0.034      2.094      0.036       0.005       0.139\n",
      "===================================================================================\n",
      "Ljung-Box (L1) (Q):                   0.64   Jarque-Bera (JB):                 0.62\n",
      "Prob(Q):                              0.43   Prob(JB):                         0.73\n",
      "Heteroskedasticity (H):               0.64   Skew:                             0.09\n",
      "Prob(H) (two-sided):                  0.60   Kurtosis:                         2.11\n",
      "===================================================================================\n",
      "\n",
      "Warnings:\n",
      "[1] Covariance matrix calculated using the outer product of gradients (complex-step).\n"
     ]
    },
    {
     "name": "stderr",
     "output_type": "stream",
     "text": [
      "/Users/ricardoalatorre/opt/anaconda3/lib/python3.8/site-packages/statsmodels/tsa/base/tsa_model.py:471: ValueWarning: No frequency information was provided, so inferred frequency AS-JAN will be used.\n",
      "  self._init_dates(dates, freq)\n",
      "/Users/ricardoalatorre/opt/anaconda3/lib/python3.8/site-packages/statsmodels/tsa/base/tsa_model.py:471: ValueWarning: No frequency information was provided, so inferred frequency AS-JAN will be used.\n",
      "  self._init_dates(dates, freq)\n"
     ]
    }
   ],
   "source": [
    "order = (1,1,0)\n",
    "seasonal_order = (0, 0, 0, 0)\n",
    "\n",
    "# instantiate\n",
    "air_sarimax = SARIMAX(\n",
    "    y,\n",
    "    X, # INCLUDING EXOGENOUS VARIABLES\n",
    "    order = order, \n",
    "    seasonal_order = seasonal_order,\n",
    "    #freq = None, # freq helps set the index column of predictions\n",
    "    enforce_stationarity = False # ensure model is not trying to enfore stationarity (use d and D)\n",
    ")\n",
    "\n",
    "#fit\n",
    "fitted_air_sarimax = air_sarimax.fit() # stats model returns fitted model\n",
    "\n",
    "# fit, in case of convergence warning\n",
    "#fitted_air_sarimax = air_sarimax.fit(maxiter = 200, method = \"powell\", disp = 0) # stats model returns fitted model\n",
    "\n",
    "# check summary for issues\n",
    "print(fitted_air_sarimax.summary())"
   ]
  },
  {
   "cell_type": "markdown",
   "metadata": {},
   "source": [
    "In this case, we find that NO2 influences cervical cancer rates."
   ]
  },
  {
   "cell_type": "code",
   "execution_count": 92,
   "metadata": {},
   "outputs": [
    {
     "data": {
      "image/png": "[encoded data removed]",
      "text/plain": [
       "<Figure size 864x360 with 1 Axes>"
      ]
     },
     "metadata": {
      "needs_background": "light"
     },
     "output_type": "display_data"
    }
   ],
   "source": [
    "# Test predictions (that are actually in-sample!)\n",
    "air_test_preds = fitted_air_sarimax.predict(start = 16, dynamic = False, exog=X)\n",
    "\n",
    "start_date = 16\n",
    "end_date = 19\n",
    "\n",
    "prediction_obj = fitted_air_sarimax.get_prediction(start_date, end_date, exog=X, dynamic = False)\n",
    "\n",
    "# Test predictions (that are actually in-sample!)\n",
    "new_air_test_preds = prediction_obj.predicted_mean\n",
    "\n",
    "# Test prediction confidence intervals\n",
    "air_conf_ints = prediction_obj.conf_int()\n",
    "air_lower_ints = air_conf_ints.iloc[:,0]\n",
    "air_upper_ints = air_conf_ints.iloc[:,1]\n",
    "\n",
    "# Old visualization function doesn't work properly without train/test split\n",
    "plt.figure(figsize=(12,5))\n",
    "plt.title(\"Cervical Cancer Incidence Rate (New Cases per 100k People)\")\n",
    "\n",
    "# train data\n",
    "plt.plot(y.index, y, lw=1, color='blue', ls='solid', label='Train Data')\n",
    "\n",
    "# test predictions\n",
    "plt.plot(new_air_test_preds.index, new_air_test_preds, lw=1, color='red', ls='dashed', label='Forecast')\n",
    "\n",
    "#  labels\n",
    "plt.xlabel(\"Date\")\n",
    "plt.ylabel(\"Cervical Cancer Incidence Rate\")\n",
    "\n",
    "# confidence intervals\n",
    "plt.fill_between(new_air_test_preds.index, air_lower_ints, air_upper_ints, color='k', alpha=0.1, label =\"95% conf. int.\");\n",
    "# legend\n",
    "plt.legend(loc = \"upper left\");"
   ]
  },
  {
   "cell_type": "code",
   "execution_count": 93,
   "metadata": {},
   "outputs": [
    {
     "data": {
      "text/plain": [
       "-0.6267805424702912"
      ]
     },
     "execution_count": 93,
     "metadata": {},
     "output_type": "execute_result"
    }
   ],
   "source": [
    "# \"Test\" score\n",
    "r2_score(y[start_date:], new_air_test_preds)"
   ]
  },
  {
   "cell_type": "code",
   "execution_count": 96,
   "metadata": {},
   "outputs": [
    {
     "data": {
      "text/plain": [
       "2.618123079138809"
      ]
     },
     "execution_count": 96,
     "metadata": {},
     "output_type": "execute_result"
    }
   ],
   "source": [
    "mape(y[start_date:], new_air_test_preds)"
   ]
  },
  {
   "cell_type": "markdown",
   "metadata": {},
   "source": [
    "Our model does a reasonably good job of predicting cervical cancer incidence rates. MAPE score of 2.6%."
   ]
  },
  {
   "cell_type": "markdown",
   "metadata": {},
   "source": [
    "## Female Breast Cancer"
   ]
  },
  {
   "cell_type": "code",
   "execution_count": 97,
   "metadata": {},
   "outputs": [
    {
     "name": "stdout",
     "output_type": "stream",
     "text": [
      "Performing stepwise search to minimize aic\n",
      " ARIMA(0,0,0)(0,0,0)[0]             : AIC=251.702, Time=0.01 sec\n",
      " ARIMA(1,0,0)(0,0,0)[0]             : AIC=inf, Time=0.02 sec\n",
      " ARIMA(0,0,1)(0,0,0)[0]             : AIC=inf, Time=0.03 sec\n",
      " ARIMA(1,0,1)(0,0,0)[0]             : AIC=116.132, Time=0.03 sec\n",
      " ARIMA(2,0,1)(0,0,0)[0]             : AIC=117.769, Time=0.04 sec\n",
      " ARIMA(1,0,2)(0,0,0)[0]             : AIC=118.124, Time=0.05 sec\n",
      " ARIMA(0,0,2)(0,0,0)[0]             : AIC=inf, Time=0.10 sec\n",
      " ARIMA(2,0,0)(0,0,0)[0]             : AIC=inf, Time=0.02 sec\n",
      " ARIMA(2,0,2)(0,0,0)[0]             : AIC=119.569, Time=0.07 sec\n",
      " ARIMA(1,0,1)(0,0,0)[0] intercept   : AIC=109.525, Time=0.08 sec\n",
      " ARIMA(0,0,1)(0,0,0)[0] intercept   : AIC=111.743, Time=0.02 sec\n",
      " ARIMA(1,0,0)(0,0,0)[0] intercept   : AIC=107.533, Time=0.08 sec\n",
      " ARIMA(0,0,0)(0,0,0)[0] intercept   : AIC=117.085, Time=0.01 sec\n",
      " ARIMA(2,0,0)(0,0,0)[0] intercept   : AIC=109.517, Time=0.07 sec\n",
      " ARIMA(2,0,1)(0,0,0)[0] intercept   : AIC=114.612, Time=0.10 sec\n",
      "\n",
      "Best model:  ARIMA(1,0,0)(0,0,0)[0] intercept\n",
      "Total fit time: 0.736 seconds\n"
     ]
    }
   ],
   "source": [
    "arimax_female_breast = ts_data_grouped[['days_no2','days_ozone', 'days_pm2.5', 'days_pm10',\n",
    "                                'female_breast']]\n",
    "\n",
    "arimax_female_breast.index = pd.to_datetime(arimax_female_breast.index, format='%Y')\n",
    "\n",
    "X = arimax_female_breast.drop(columns=['female_breast'])\n",
    "y = arimax_female_breast['female_breast']\n",
    "\n",
    "sarimax = auto_arima(\n",
    "    y, # data\n",
    "    exogenous = X, # INCLUDING EXOGENOUS VARIABLES\n",
    "    start_p = 0,\n",
    "    start_q = 0,\n",
    "    max_p = 3,\n",
    "    max_q = 3,\n",
    "    start_P = 0,\n",
    "    start_Q = 0,\n",
    "    max_P = 3,\n",
    "    max_Q = 3,\n",
    "#    d = 0, \n",
    "#    D = 0, \n",
    "    seasonal = False,\n",
    "    m = 1,\n",
    "    trace=True,\n",
    "    error_action='ignore',  # don't want to know if an order does not work\n",
    "    suppress_warnings=True  # don't want convergence warnings\n",
    ")"
   ]
  },
  {
   "cell_type": "code",
   "execution_count": 103,
   "metadata": {},
   "outputs": [
    {
     "name": "stdout",
     "output_type": "stream",
     "text": [
      "                               SARIMAX Results                                \n",
      "==============================================================================\n",
      "Dep. Variable:          female_breast   No. Observations:                   20\n",
      "Model:               SARIMAX(1, 0, 0)   Log Likelihood                 -41.178\n",
      "Date:                Fri, 20 Jan 2023   AIC                             94.355\n",
      "Time:                        10:59:03   BIC                            100.022\n",
      "Sample:                    01-01-2000   HQIC                            95.314\n",
      "                         - 01-01-2019                                         \n",
      "Covariance Type:                  opg                                         \n",
      "==============================================================================\n",
      "                 coef    std err          z      P>|z|      [0.025      0.975]\n",
      "------------------------------------------------------------------------------\n",
      "days_no2       0.5928      0.060      9.836      0.000       0.475       0.711\n",
      "days_ozone     0.2695      0.023     11.804      0.000       0.225       0.314\n",
      "days_pm2.5     0.3506      0.025     14.057      0.000       0.302       0.400\n",
      "days_pm10      1.2547      0.379      3.313      0.001       0.512       1.997\n",
      "ar.L1          0.1782      0.273      0.652      0.514      -0.357       0.714\n",
      "sigma2         4.4853      2.323      1.931      0.054      -0.068       9.039\n",
      "===================================================================================\n",
      "Ljung-Box (L1) (Q):                   0.08   Jarque-Bera (JB):                 1.04\n",
      "Prob(Q):                              0.78   Prob(JB):                         0.60\n",
      "Heteroskedasticity (H):               0.63   Skew:                             0.16\n",
      "Prob(H) (two-sided):                  0.58   Kurtosis:                         1.90\n",
      "===================================================================================\n",
      "\n",
      "Warnings:\n",
      "[1] Covariance matrix calculated using the outer product of gradients (complex-step).\n"
     ]
    },
    {
     "name": "stderr",
     "output_type": "stream",
     "text": [
      "/Users/ricardoalatorre/opt/anaconda3/lib/python3.8/site-packages/statsmodels/tsa/base/tsa_model.py:471: ValueWarning: No frequency information was provided, so inferred frequency AS-JAN will be used.\n",
      "  self._init_dates(dates, freq)\n",
      "/Users/ricardoalatorre/opt/anaconda3/lib/python3.8/site-packages/statsmodels/tsa/base/tsa_model.py:471: ValueWarning: No frequency information was provided, so inferred frequency AS-JAN will be used.\n",
      "  self._init_dates(dates, freq)\n",
      "/Users/ricardoalatorre/opt/anaconda3/lib/python3.8/site-packages/statsmodels/base/model.py:604: ConvergenceWarning: Maximum Likelihood optimization failed to converge. Check mle_retvals\n",
      "  warnings.warn(\"Maximum Likelihood optimization failed to \"\n"
     ]
    }
   ],
   "source": [
    "order = (1,0,0)\n",
    "seasonal_order = (0, 0, 0, 0)\n",
    "\n",
    "# instantiate\n",
    "air_sarimax = SARIMAX(\n",
    "    y,\n",
    "    X, # INCLUDING EXOGENOUS VARIABLES\n",
    "    order = order, \n",
    "    seasonal_order = seasonal_order,\n",
    "    #freq = None, # freq helps set the index column of predictions\n",
    "    enforce_stationarity = False # ensure model is not trying to enfore stationarity (use d and D)\n",
    ")\n",
    "\n",
    "#fit\n",
    "fitted_air_sarimax = air_sarimax.fit() # stats model returns fitted model\n",
    "\n",
    "# fit, in case of convergence warning\n",
    "#fitted_air_sarimax = air_sarimax.fit(maxiter = 200, method = \"powell\", disp = 0) # stats model returns fitted model\n",
    "\n",
    "# check summary for issues\n",
    "print(fitted_air_sarimax.summary())"
   ]
  },
  {
   "cell_type": "markdown",
   "metadata": {},
   "source": [
    "Seems like breast cancer incidence rates are influenced by NO2, Ozone, PM2.5 and PM10."
   ]
  },
  {
   "cell_type": "code",
   "execution_count": 104,
   "metadata": {},
   "outputs": [
    {
     "data": {
      "image/png": "[encoded data removed]",
      "text/plain": [
       "<Figure size 864x360 with 1 Axes>"
      ]
     },
     "metadata": {
      "needs_background": "light"
     },
     "output_type": "display_data"
    }
   ],
   "source": [
    "# Test predictions (that are actually in-sample!)\n",
    "air_test_preds = fitted_air_sarimax.predict(start = 16, dynamic = False, exog=X)\n",
    "\n",
    "start_date = 16\n",
    "end_date = 19\n",
    "\n",
    "prediction_obj = fitted_air_sarimax.get_prediction(start_date, end_date, exog=X, dynamic = False)\n",
    "\n",
    "# Test predictions (that are actually in-sample!)\n",
    "new_air_test_preds = prediction_obj.predicted_mean\n",
    "\n",
    "# Test prediction confidence intervals\n",
    "air_conf_ints = prediction_obj.conf_int()\n",
    "air_lower_ints = air_conf_ints.iloc[:,0]\n",
    "air_upper_ints = air_conf_ints.iloc[:,1]\n",
    "\n",
    "# Old visualization function doesn't work properly without train/test split\n",
    "plt.figure(figsize=(12,5))\n",
    "plt.title(\"Female Breast Cancer Incidence Rate (new cases per 100k people)\")\n",
    "\n",
    "# train data\n",
    "plt.plot(y.index, y, lw=1, color='blue', ls='solid', label='Train Data')\n",
    "\n",
    "# test predictions\n",
    "plt.plot(new_air_test_preds.index, new_air_test_preds, lw=1, color='red', ls='dashed', label='Forecast')\n",
    "\n",
    "#  labels\n",
    "plt.xlabel(\"Date\")\n",
    "plt.ylabel(\"Female Breast Cancer Incidence Rate\")\n",
    "\n",
    "# confidence intervals\n",
    "plt.fill_between(new_air_test_preds.index, air_lower_ints, air_upper_ints, color='k', alpha=0.1, label =\"95% conf. int.\");\n",
    "# legend\n",
    "plt.legend(loc = \"upper left\");"
   ]
  },
  {
   "cell_type": "code",
   "execution_count": 105,
   "metadata": {},
   "outputs": [
    {
     "data": {
      "text/plain": [
       "-0.9333390513305051"
      ]
     },
     "execution_count": 105,
     "metadata": {},
     "output_type": "execute_result"
    }
   ],
   "source": [
    "# \"Test\" score\n",
    "r2_score(y[start_date:], new_air_test_preds)"
   ]
  },
  {
   "cell_type": "code",
   "execution_count": 106,
   "metadata": {},
   "outputs": [
    {
     "data": {
      "text/plain": [
       "1.3257526642193975"
      ]
     },
     "execution_count": 106,
     "metadata": {},
     "output_type": "execute_result"
    }
   ],
   "source": [
    "mape(y[start_date:], new_air_test_preds)"
   ]
  },
  {
   "cell_type": "markdown",
   "metadata": {},
   "source": [
    "Our model does a decent job of predicting female breast cancer rates, with a MAPE of 1.3%"
   ]
  },
  {
   "cell_type": "markdown",
   "metadata": {},
   "source": [
    "## Mesothelioma"
   ]
  },
  {
   "cell_type": "code",
   "execution_count": 111,
   "metadata": {},
   "outputs": [
    {
     "name": "stdout",
     "output_type": "stream",
     "text": [
      "Performing stepwise search to minimize aic\n",
      " ARIMA(0,1,0)(0,0,0)[0] intercept   : AIC=-33.871, Time=0.02 sec\n",
      " ARIMA(1,1,0)(0,0,0)[0] intercept   : AIC=-35.961, Time=0.02 sec\n",
      " ARIMA(0,1,1)(0,0,0)[0] intercept   : AIC=-38.505, Time=0.04 sec\n",
      " ARIMA(0,1,0)(0,0,0)[0]             : AIC=-34.844, Time=0.01 sec\n",
      " ARIMA(1,1,1)(0,0,0)[0] intercept   : AIC=inf, Time=0.09 sec\n",
      " ARIMA(0,1,2)(0,0,0)[0] intercept   : AIC=-36.712, Time=0.08 sec\n",
      " ARIMA(1,1,2)(0,0,0)[0] intercept   : AIC=-34.692, Time=0.08 sec\n",
      " ARIMA(0,1,1)(0,0,0)[0]             : AIC=-36.142, Time=0.02 sec\n",
      "\n",
      "Best model:  ARIMA(0,1,1)(0,0,0)[0] intercept\n",
      "Total fit time: 0.381 seconds\n"
     ]
    }
   ],
   "source": [
    "arimax_mesothelioma = ts_data_grouped[['days_no2','days_ozone', 'days_pm2.5', 'days_pm10',\n",
    "                                'mesothelioma']]\n",
    "\n",
    "arimax_mesothelioma.index = pd.to_datetime(arimax_mesothelioma.index, format='%Y')\n",
    "\n",
    "X = arimax_mesothelioma.drop(columns=['mesothelioma'])\n",
    "y = arimax_mesothelioma['mesothelioma']\n",
    "\n",
    "sarimax = auto_arima(\n",
    "    y, # data\n",
    "    exogenous = X, # INCLUDING EXOGENOUS VARIABLES\n",
    "    start_p = 0,\n",
    "    start_q = 0,\n",
    "    max_p = 3,\n",
    "    max_q = 3,\n",
    "    start_P = 0,\n",
    "    start_Q = 0,\n",
    "    max_P = 3,\n",
    "    max_Q = 3,\n",
    "#    d = 0, \n",
    "#    D = 0, \n",
    "    seasonal = False,\n",
    "    m = 1,\n",
    "    trace=True,\n",
    "    error_action='ignore',  # don't want to know if an order does not work\n",
    "    suppress_warnings=True  # don't want convergence warnings\n",
    ")"
   ]
  },
  {
   "cell_type": "code",
   "execution_count": 112,
   "metadata": {},
   "outputs": [
    {
     "name": "stdout",
     "output_type": "stream",
     "text": [
      "                               SARIMAX Results                                \n",
      "==============================================================================\n",
      "Dep. Variable:           mesothelioma   No. Observations:                   20\n",
      "Model:               SARIMAX(0, 1, 1)   Log Likelihood                  19.973\n",
      "Date:                Fri, 20 Jan 2023   AIC                            -27.947\n",
      "Time:                        11:01:35   BIC                            -22.948\n",
      "Sample:                    01-01-2000   HQIC                           -27.450\n",
      "                         - 01-01-2019                                         \n",
      "Covariance Type:                  opg                                         \n",
      "==============================================================================\n",
      "                 coef    std err          z      P>|z|      [0.025      0.975]\n",
      "------------------------------------------------------------------------------\n",
      "days_no2      -0.0502      0.024     -2.079      0.038      -0.098      -0.003\n",
      "days_ozone    -0.0472      0.022     -2.107      0.035      -0.091      -0.003\n",
      "days_pm2.5    -0.0469      0.023     -2.065      0.039      -0.091      -0.002\n",
      "days_pm10     -0.0371      0.032     -1.176      0.239      -0.099       0.025\n",
      "ma.L1         -0.2590      0.580     -0.447      0.655      -1.395       0.877\n",
      "sigma2         0.0056      0.003      2.022      0.043       0.000       0.011\n",
      "===================================================================================\n",
      "Ljung-Box (L1) (Q):                   0.43   Jarque-Bera (JB):                 0.03\n",
      "Prob(Q):                              0.51   Prob(JB):                         0.98\n",
      "Heteroskedasticity (H):               1.46   Skew:                             0.01\n",
      "Prob(H) (two-sided):                  0.66   Kurtosis:                         2.79\n",
      "===================================================================================\n",
      "\n",
      "Warnings:\n",
      "[1] Covariance matrix calculated using the outer product of gradients (complex-step).\n"
     ]
    },
    {
     "name": "stderr",
     "output_type": "stream",
     "text": [
      "/Users/ricardoalatorre/opt/anaconda3/lib/python3.8/site-packages/statsmodels/tsa/base/tsa_model.py:471: ValueWarning: No frequency information was provided, so inferred frequency AS-JAN will be used.\n",
      "  self._init_dates(dates, freq)\n",
      "/Users/ricardoalatorre/opt/anaconda3/lib/python3.8/site-packages/statsmodels/tsa/base/tsa_model.py:471: ValueWarning: No frequency information was provided, so inferred frequency AS-JAN will be used.\n",
      "  self._init_dates(dates, freq)\n"
     ]
    }
   ],
   "source": [
    "order = (0,1,1)\n",
    "seasonal_order = (0, 0, 0, 0)\n",
    "\n",
    "# instantiate\n",
    "air_sarimax = SARIMAX(\n",
    "    y,\n",
    "    X, # INCLUDING EXOGENOUS VARIABLES\n",
    "    order = order, \n",
    "    seasonal_order = seasonal_order,\n",
    "    #freq = None, # freq helps set the index column of predictions\n",
    "    enforce_stationarity = False # ensure model is not trying to enfore stationarity (use d and D)\n",
    ")\n",
    "\n",
    "#fit\n",
    "fitted_air_sarimax = air_sarimax.fit() # stats model returns fitted model\n",
    "\n",
    "# fit, in case of convergence warning\n",
    "#fitted_air_sarimax = air_sarimax.fit(maxiter = 200, method = \"powell\", disp = 0) # stats model returns fitted model\n",
    "\n",
    "# check summary for issues\n",
    "print(fitted_air_sarimax.summary())"
   ]
  },
  {
   "cell_type": "markdown",
   "metadata": {},
   "source": [
    "Seems that mesothelioma incidence rates are influenced by NO2, Ozone, PM2.5 and PM10"
   ]
  },
  {
   "cell_type": "code",
   "execution_count": 113,
   "metadata": {},
   "outputs": [
    {
     "data": {
      "image/png": "[encoded data removed]",
      "text/plain": [
       "<Figure size 864x360 with 1 Axes>"
      ]
     },
     "metadata": {
      "needs_background": "light"
     },
     "output_type": "display_data"
    }
   ],
   "source": [
    "# Test predictions (that are actually in-sample!)\n",
    "air_test_preds = fitted_air_sarimax.predict(start = 16, dynamic = False, exog=X)\n",
    "\n",
    "start_date = 16\n",
    "end_date = 19\n",
    "\n",
    "prediction_obj = fitted_air_sarimax.get_prediction(start_date, end_date, exog=X, dynamic = False)\n",
    "\n",
    "# Test predictions (that are actually in-sample!)\n",
    "new_air_test_preds = prediction_obj.predicted_mean\n",
    "\n",
    "# Test prediction confidence intervals\n",
    "air_conf_ints = prediction_obj.conf_int()\n",
    "air_lower_ints = air_conf_ints.iloc[:,0]\n",
    "air_upper_ints = air_conf_ints.iloc[:,1]\n",
    "\n",
    "# Old visualization function doesn't work properly without train/test split\n",
    "plt.figure(figsize=(12,5))\n",
    "plt.title(\"Mesothelioma Incidence Rate (new cases per 100k people)\")\n",
    "\n",
    "# train data\n",
    "plt.plot(y.index, y, lw=1, color='blue', ls='solid', label='Train Data')\n",
    "\n",
    "# test predictions\n",
    "plt.plot(new_air_test_preds.index, new_air_test_preds, lw=1, color='red', ls='dashed', label='Forecast')\n",
    "\n",
    "#  labels\n",
    "plt.xlabel(\"Date\")\n",
    "plt.ylabel(\"Mesothelioma Incidence Rate\")\n",
    "\n",
    "# confidence intervals\n",
    "plt.fill_between(new_air_test_preds.index, air_lower_ints, air_upper_ints, color='k', alpha=0.1, label =\"95% conf. int.\");\n",
    "# legend\n",
    "plt.legend(loc = \"upper left\");"
   ]
  },
  {
   "cell_type": "code",
   "execution_count": 114,
   "metadata": {},
   "outputs": [
    {
     "data": {
      "text/plain": [
       "-3.355274516736695"
      ]
     },
     "execution_count": 114,
     "metadata": {},
     "output_type": "execute_result"
    }
   ],
   "source": [
    "# \"Test\" score\n",
    "r2_score(y[start_date:], new_air_test_preds)"
   ]
  },
  {
   "cell_type": "code",
   "execution_count": 115,
   "metadata": {},
   "outputs": [
    {
     "data": {
      "text/plain": [
       "10.615201997032347"
      ]
     },
     "execution_count": 115,
     "metadata": {},
     "output_type": "execute_result"
    }
   ],
   "source": [
    "mape(y[start_date:], new_air_test_preds) # Not particularly good!"
   ]
  },
  {
   "cell_type": "markdown",
   "metadata": {},
   "source": [
    "## Air Quality and Cancer Incidence - ARIMAX Modeling Conclusions"
   ]
  },
  {
   "cell_type": "markdown",
   "metadata": {},
   "source": [
    "For the varieties of cancer presented, it seems that there is a direct and statistically significant relationship between cancer incidence rates and the number of days in which certain pollutants, particularly NO2, Ozone and PM2.5, were present in the air in high concentrations. \n",
    "\n",
    "The ARIMAX models we constructed also tended to do a good job in predicting cancer incidence rates in California over time. However, our modeling in this section is hamstrung to the extent that it relies on data consisting of 20 observations. It is not surprising that our R2 scores tended to be dismal, whatever or MAPE scores turned out to be.\n",
    "\n",
    "In a new iteration of this modeling phase, it would be helpful to get granular, year-by-year, cancer incidence rates by county so that we are not in the position to aggregate at the state level and thus have more data with which to generate more robust models. That being said, our analysis yielded some interesting relationships - who would've thought that breathing in common particulates could give you pancreatic cancer (as opposed to the more usual suspect - lung cancer)?"
   ]
  }
 ],
 "metadata": {
  "kernelspec": {
   "display_name": "Python 3",
   "language": "python",
   "name": "python3"
  },
  "language_info": {
   "codemirror_mode": {
    "name": "ipython",
    "version": 3
   },
   "file_extension": ".py",
   "mimetype": "text/x-python",
   "name": "python",
   "nbconvert_exporter": "python",
   "pygments_lexer": "ipython3",
   "version": "3.8.5"
  }
 },
 "nbformat": 4,
 "nbformat_minor": 4
}
